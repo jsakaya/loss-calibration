{
 "cells": [
  {
   "cell_type": "code",
   "execution_count": 454,
   "metadata": {},
   "outputs": [],
   "source": [
    "import tensorflow as tf \n",
    "import tensorflow_probability as tfp\n",
    "from tensorflow.keras.datasets import mnist"
   ]
  },
  {
   "cell_type": "code",
   "execution_count": 455,
   "metadata": {},
   "outputs": [],
   "source": [
    "import numpy as np\n",
    "\n",
    "import matplotlib.pyplot as plt\n",
    "from sklearn.metrics import accuracy_score\n",
    "from sklearn.metrics import confusion_matrix\n",
    "import seaborn as sns\n",
    "\n",
    "import argparse\n",
    "import random\n",
    "import os\n",
    "\n",
    "tfd = tfp.distributions"
   ]
  },
  {
   "cell_type": "code",
   "execution_count": 456,
   "metadata": {},
   "outputs": [],
   "source": [
    "import importlib\n",
    "import custom_layers\n",
    "import utilities"
   ]
  },
  {
   "cell_type": "code",
   "execution_count": 457,
   "metadata": {},
   "outputs": [],
   "source": [
    "# Hyperparameter setup\n",
    "learning_rate = 0.001\n",
    "epochs = 100\n",
    "batch_size = 128\n",
    "num_classes = 10\n",
    "num_samples = 1"
   ]
  },
  {
   "cell_type": "markdown",
   "metadata": {},
   "source": [
    "### MNIST data (5000 train, 5000 val and 10000 test) with 50% noise in training data"
   ]
  },
  {
   "cell_type": "code",
   "execution_count": 458,
   "metadata": {},
   "outputs": [
    {
     "name": "stdout",
     "output_type": "stream",
     "text": [
      "60000 train samples\n",
      "10000 test samples\n"
     ]
    }
   ],
   "source": [
    "# Load and preprocess MNIST data\n",
    "(x_train, y_train), (x_test, y_test) = mnist.load_data()\n",
    "\n",
    "x_train = x_train.reshape([-1, 28*28])\n",
    "x_test = x_test.reshape([-1, 28*28])\n",
    "x_train = x_train.astype('float32')\n",
    "x_test = x_test.astype('float32')\n",
    "x_train /= 255\n",
    "x_test /= 255\n",
    "\n",
    "y_train = y_train.astype('int32')\n",
    "y_test = y_test.astype('int32')\n",
    "\n",
    "train_samples = x_train.shape[0]\n",
    "print(x_train.shape[0], 'train samples')\n",
    "print(x_test.shape[0], 'test samples')\n",
    "\n",
    "x_val, y_val = x_test, y_test\n",
    "# n_samples = 5000\n",
    "I = np.eye(num_classes)\n",
    "# x_train_S, y_train_S, x_test, y_test = utilities.load_mnist(n_samples, square=False, conv=False)\n",
    "# y_train_S = y_train_S.astype('int32')\n",
    "# y_test = y_test.astype('int32')\n",
    "\n",
    "# N = int(n_samples/2)\n",
    "\n",
    "# x_val = x_train_S[N:]\n",
    "# y_val = y_train_S[N:]\n",
    "\n",
    "# x_train = x_train_S[:N]\n",
    "# y_train = y_train_S[:N]\n",
    "\n",
    "# # Add output noise to important class\n",
    "# R = int(.5*N)\n",
    "# r_ind = random.sample(range(0,N),R)\n",
    "# r_class = np.random.randint(0,num_classes,R)\n",
    "# y_train[r_ind] = r_class\n",
    "\n",
    "# train_samples = N"
   ]
  },
  {
   "cell_type": "markdown",
   "metadata": {},
   "source": [
    "### Loss matrix "
   ]
  },
  {
   "cell_type": "code",
   "execution_count": 6,
   "metadata": {},
   "outputs": [
    {
     "name": "stdout",
     "output_type": "stream",
     "text": [
      "         TRUTH\n",
      "\n",
      "P    0 :  [1.e+00 1.e-04 1.e-04 1.e-04 1.e-04 1.e-04 1.e-04 1.e-04 1.e-04 1.e-04]\n",
      "R    1 :  [1.e-04 1.e+00 1.e-04 1.e-04 1.e-04 1.e-04 1.e-04 1.e-04 1.e-04 1.e-04]\n",
      "E    2 :  [1.e-04 1.e-04 1.e+00 1.e-04 1.e-04 1.e-04 1.e-04 1.e-04 1.e-04 1.e-04]\n",
      "D    3 :  [0.3 0.3 0.3 1.  0.3 0.3 0.3 0.3 0.3 0.3]\n",
      "     4 :  [1.e-04 1.e-04 1.e-04 1.e-04 1.e+00 1.e-04 1.e-04 1.e-04 1.e-04 1.e-04]\n",
      "     5 :  [1.e-04 1.e-04 1.e-04 1.e-04 1.e-04 1.e+00 1.e-04 1.e-04 1.e-04 1.e-04]\n",
      "     6 :  [1.e-04 1.e-04 1.e-04 1.e-04 1.e-04 1.e-04 1.e+00 1.e-04 1.e-04 1.e-04]\n",
      "     7 :  [1.e-04 1.e-04 1.e-04 1.e-04 1.e-04 1.e-04 1.e-04 1.e+00 1.e-04 1.e-04]\n",
      "     8 :  [0.3 0.3 0.3 0.3 0.3 0.3 0.3 0.3 1.  0.3]\n",
      "     9 :  [1.e-04 1.e-04 1.e-04 1.e-04 1.e-04 1.e-04 1.e-04 1.e-04 1.e-04 1.e+00]\n",
      "[[0.  1.  1.  1.  1.  1.  1.  1.  1.  1. ]\n",
      " [1.  0.  1.  1.  1.  1.  1.  1.  1.  1. ]\n",
      " [1.  1.  0.  1.  1.  1.  1.  1.  1.  1. ]\n",
      " [0.7 0.7 0.7 0.  0.7 0.7 0.7 0.7 0.7 0.7]\n",
      " [1.  1.  1.  1.  0.  1.  1.  1.  1.  1. ]\n",
      " [1.  1.  1.  1.  1.  0.  1.  1.  1.  1. ]\n",
      " [1.  1.  1.  1.  1.  1.  0.  1.  1.  1. ]\n",
      " [1.  1.  1.  1.  1.  1.  1.  0.  1.  1. ]\n",
      " [0.7 0.7 0.7 0.7 0.7 0.7 0.7 0.7 0.  0.7]\n",
      " [1.  1.  1.  1.  1.  1.  1.  1.  1.  0. ]]\n"
     ]
    }
   ],
   "source": [
    "digits = [3,8]\n",
    "np.set_printoptions(precision=3)\n",
    "L = np.copy(I)\n",
    "L[np.where(I==0)] = 1\n",
    "L[[3,8]] = 0.7 # Select more important rows with lower loss in prediction\n",
    "L[np.where(I==1)] = 0\n",
    "\n",
    "loss_mat = L\n",
    "M = 1.0001\n",
    "\n",
    "print(\"         TRUTH\\n\" )\n",
    "string = 'PRED'\n",
    "for i in range(num_classes):\n",
    "    if i < 4:\n",
    "        print(string[i],'  ',str(i),': ',M - loss_mat[i])\n",
    "    else:\n",
    "        print('    ',str(i),': ',M - loss_mat[i])\n",
    "        \n",
    "# Set up weight for weighted cross entropy\n",
    "\n",
    "class_weight = np.ones((num_classes))\n",
    "class_weight[digits] = 1.4\n",
    "\n",
    "print(loss_mat)"
   ]
  },
  {
   "cell_type": "markdown",
   "metadata": {},
   "source": [
    "### Softmax loss"
   ]
  },
  {
   "cell_type": "code",
   "execution_count": null,
   "metadata": {},
   "outputs": [],
   "source": [
    "# Scale the KL term from the probabilistic layers for per-datapoint ELBO. \n",
    "# KL term added internally as a regularization term.\n",
    "scaled_kl = lambda q, p, _: tfp.distributions.kl_divergence(q, p) / tf.cast(train_samples, tf.float32)\n",
    "\n",
    "x_input =  tf.keras.Input((x_train.shape[1:]), name = 'x_input')\n",
    "y_input =  tf.keras.Input((1,), name = 'y_input')\n",
    "\n",
    "logits = custom_layers.Softmax( \n",
    "    10, \n",
    "    kernel_divergence_fn=scaled_kl)([x_input, y_input])\n",
    "\n",
    "model_sm = tf.keras.Model([x_input, y_input], logits)\n",
    "model_sm.compile(loss=None, optimizer='adam')"
   ]
  },
  {
   "cell_type": "code",
   "execution_count": null,
   "metadata": {},
   "outputs": [],
   "source": [
    "\n",
    "history_model_sm = []\n",
    "for epoch in range(epochs):\n",
    "    history_epoch = model_sm.fit([x_train, y_train],\n",
    "                 batch_size=batch_size,\n",
    "                 epochs=1,\n",
    "                 verbose=1,\n",
    "                 validation_data=([x_val, y_val], None))\n",
    "#                  callbacks=[model_checkpoint])\n",
    "#     T = 10\n",
    "#     yt_hat = np.array([lc_model.predict([x_train,H_x]) for _ in range(T)])\n",
    "#     H_x = lcbnn.optimal_h(yt_hat,loss_mat)\n",
    "#     h_train = np.argmax(model.predict([x_train, y_train, h_train]), -1)\n",
    "    history_model_sm.append(history_epoch)\n",
    "       "
   ]
  },
  {
   "cell_type": "code",
   "execution_count": null,
   "metadata": {},
   "outputs": [],
   "source": [
    "y_pred = np.argmax(model_sm.predict([x_test,y_test]), 1)\n",
    "print(\"Test accuracy: \", len(np.where(y_pred - y_test == 0)[0])/len(y_test))\n",
    "\n",
    "y_pred = np.argmax(model_sm.predict([x_train, y_train]), 1)\n",
    "print(\"Train accuracy: \", len(np.where(y_pred - y_train == 0)[0])/len(y_train))"
   ]
  },
  {
   "cell_type": "markdown",
   "metadata": {},
   "source": [
    "### Loss calibrated softmax loss"
   ]
  },
  {
   "cell_type": "code",
   "execution_count": null,
   "metadata": {},
   "outputs": [],
   "source": [
    "# For reproduceable results\n",
    "importlib.reload(custom_layers)\n",
    "importlib.reload(utilities)\n",
    "\n",
    "# Scale the KL term from the probabilistic layers for per-datapoint ELBO. \n",
    "# KL term added internally as a regularization term.\n",
    "\n",
    "scaled_kl = lambda q, p, _: tfp.distributions.kl_divergence(q, p) / tf.cast(train_samples, tf.float32)\n",
    "\n",
    "x_input =  tf.keras.Input((x_train.shape[1:]), name = 'x_input')\n",
    "y_input =  tf.keras.Input((1,), name = 'y_input')\n",
    "h_input =  tf.keras.Input((1,), name = 'h_input')\n",
    "\n",
    "logits = custom_layers.LCSoftmax( \n",
    "    10, \n",
    "    M,\n",
    "    loss_mat,\n",
    "    kernel_divergence_fn=scaled_kl)([x_input, y_input, h_input])\n",
    "\n",
    "model_sm_lc = tf.keras.Model([x_input, y_input, h_input], logits)\n",
    "model_sm_lc.compile(loss=None, optimizer='adam')"
   ]
  },
  {
   "cell_type": "code",
   "execution_count": null,
   "metadata": {},
   "outputs": [],
   "source": [
    "h_train = y_train\n",
    "h_test = y_test\n",
    "h_val = y_val\n",
    "\n",
    "history_model_sm_lc = []\n",
    "for epoch in range(epochs):\n",
    "    history_epoch = model_sm_lc.fit([x_train, y_train, h_train],\n",
    "                 batch_size=batch_size,\n",
    "                 epochs=1,\n",
    "                 verbose=1,\n",
    "                 validation_data=([x_val, y_val, h_val], None))\n",
    "#                  callbacks=[model_checkpoint])\n",
    "    T = 10\n",
    "    yt_hat = np.array([model_sm_lc.predict([x_train, y_train, h_train]) for _ in range(T)])\n",
    "    h_train = utilities.optimal_h(yt_hat, loss_mat)\n",
    "    history_model_sm_lc.append(history_epoch)\n",
    "       "
   ]
  },
  {
   "cell_type": "markdown",
   "metadata": {},
   "source": [
    "### One-vs-each loss"
   ]
  },
  {
   "cell_type": "code",
   "execution_count": null,
   "metadata": {},
   "outputs": [],
   "source": [
    "# For reproduceable results\n",
    "importlib.reload(custom_layers)\n",
    "importlib.reload(utilities)\n",
    "# np.random.seed(1337)\n",
    "\n",
    "# Scale the KL term from the probabilistic layers for per-datapoint ELBO. \n",
    "# KL term added internally as a regularization term.\n",
    "\n",
    "scaled_kl = lambda q, p, _: tfp.distributions.kl_divergence(q, p) / tf.cast(train_samples, tf.float32)\n",
    "\n",
    "\n",
    "x_input =  tf.keras.Input((x_train.shape[1:]), name = 'x_input')\n",
    "y_input =  tf.keras.Input((1,), name = 'y_input')\n",
    "\n",
    "logits = custom_layers.OVELayer(\n",
    "    5,\n",
    "    10, \n",
    "    kernel_divergence_fn=scaled_kl)([x_input, y_input])\n",
    "\n",
    "model_ove = tf.keras.Model([x_input, y_input], logits)\n",
    "model_ove.compile(loss=None, optimizer='adam')"
   ]
  },
  {
   "cell_type": "code",
   "execution_count": null,
   "metadata": {},
   "outputs": [],
   "source": [
    "\n",
    "history_model_ove = []\n",
    "for epoch in range(epochs):\n",
    "    history_epoch = model_ove.fit([x_train, y_train],\n",
    "                 batch_size=batch_size,\n",
    "                 epochs=1,\n",
    "                 verbose=1,\n",
    "                 validation_data=([x_val, y_val], None))\n",
    "#                  callbacks=[model_checkpoint])\n",
    "\n",
    "    history_model_ove.append(history_epoch)\n",
    "       "
   ]
  },
  {
   "cell_type": "code",
   "execution_count": null,
   "metadata": {},
   "outputs": [],
   "source": [
    "# For reproduceable results\n",
    "importlib.reload(custom_layers)\n",
    "importlib.reload(utilities)\n",
    "# np.random.seed(1337)\n",
    "\n",
    "# Scale the KL term from the probabilistic layers for per-datapoint ELBO. \n",
    "# KL term added internally as a regularization term.\n",
    "\n",
    "scaled_kl = lambda q, p, _: tfp.distributions.kl_divergence(q, p) / tf.cast(train_samples, tf.float32)\n",
    "\n",
    "\n",
    "x_input =  tf.keras.Input((x_train.shape[1:]), name = 'x_input')\n",
    "y_input =  tf.keras.Input((1,), name = 'y_input')\n",
    "\n",
    "logits = custom_layers.NCE(\n",
    "    5,\n",
    "    10, \n",
    "    kernel_divergence_fn=scaled_kl)([x_input, y_input])\n",
    "\n",
    "model_nce = tf.keras.Model([x_input, y_input], logits)\n",
    "model_nce.compile(loss=None, optimizer='adam')"
   ]
  },
  {
   "cell_type": "code",
   "execution_count": null,
   "metadata": {},
   "outputs": [],
   "source": [
    "\n",
    "history_model_nce = []\n",
    "for epoch in range(200):\n",
    "    history_epoch = model_nce.fit([x_train, y_train],\n",
    "                 batch_size=batch_size,\n",
    "                 epochs=1,\n",
    "                 verbose=1,\n",
    "                 validation_data=([x_val, y_val], None))\n",
    "#                  callbacks=[model_checkpoint])\n",
    "\n",
    "    history_model_nce.append(history_epoch)\n",
    "       "
   ]
  },
  {
   "cell_type": "markdown",
   "metadata": {},
   "source": [
    "## Risk evaluation"
   ]
  },
  {
   "cell_type": "code",
   "execution_count": null,
   "metadata": {},
   "outputs": [],
   "source": [
    "#  Softmax model\n",
    "\n",
    "T = 10\n",
    "yt_hat_std = np.array([model_sm.predict([x_test, y_test]) for _ in range(T)])\n",
    "H_x_test_std = utilities.optimal_h(yt_hat_std,loss_mat) \n",
    "acc_std = accuracy_score(y_test, H_x_test_std)\n",
    "loss_std = np.mean(loss_mat[y_test, H_x_test_std])\n",
    "print('Standard:\\n')\n",
    "print('Accuracy on optimal decision: ', acc_std)\n",
    "print('Expected loss: ', loss_std)\n",
    "\n",
    "\n",
    "# #  Softmax with loss calibration\n",
    "\n",
    "# T = 10\n",
    "# yt_hat_sm_lc = np.array([model_sm_lc.predict([x_test, y_test, h_test]) for _ in range(T)])\n",
    "# H_x_test_sm_lc = utilities.optimal_h(yt_hat_sm_lc,loss_mat) \n",
    "# acc_sm_lc = accuracy_score(y_test, H_x_test_sm_lc)\n",
    "# loss_sm_lc = np.mean(loss_mat[y_test, H_x_test_sm_lc])\n",
    "# print('\\nLoss calibrated softmax:\\n')\n",
    "# print('Accuracy on optimal decision: ', acc_sm_lc)\n",
    "# print('Expected loss: ', loss_sm_lc)\n",
    "\n",
    "\n",
    "# OVE model\n",
    "\n",
    "T = 10 \n",
    "yt_hat_ove = np.array([model_ove.predict([x_test, y_test]) for _ in range(T)])\n",
    "H_x_test_ove = utilities.optimal_h(yt_hat_ove,loss_mat) \n",
    "acc_ove = accuracy_score(y_test, H_x_test_ove)\n",
    "loss_ove = np.mean(loss_mat[y_test, H_x_test_ove])\n",
    "print('\\nOVE:\\n')\n",
    "print('Accuracy on optimal decision: ', acc_ove)\n",
    "print('Expected loss: ', loss_ove)\n",
    "\n",
    "\n",
    "\n",
    "# NCE model\n",
    "\n",
    "T = 10 \n",
    "yt_hat_nce = np.array([model_nce.predict([x_test, y_test]) for _ in range(T)])\n",
    "H_x_test_nce = utilities.optimal_h(yt_hat_nce,loss_mat) \n",
    "acc_nce = accuracy_score(y_test, H_x_test_nce)\n",
    "loss_nce = np.mean(loss_mat[y_test, H_x_test_nce])\n",
    "print('\\nNCE:\\n')\n",
    "print('Accuracy on optimal decision: ', acc_nce)\n",
    "print('Expected loss: ', loss_nce)\n"
   ]
  },
  {
   "cell_type": "code",
   "execution_count": null,
   "metadata": {},
   "outputs": [],
   "source": [
    "plt.rcParams['figure.figsize'] = (10, 10) # Width and height\n",
    "\n",
    "classes = ['0','1','2','3','4','5','6','7','8','9']\n",
    "\n",
    "\n",
    "cnf_matrix_std = confusion_matrix(y_test.astype('float'),np.round(H_x_test_std))\n",
    "np.set_printoptions(precision=2)\n",
    "cnf_matrix_sm_lc = confusion_matrix(y_test.astype('float'),np.round(H_x_test_sm_lc))\n",
    "np.set_printoptions(precision=2)\n",
    "cnf_matrix_ove = confusion_matrix(y_test.astype('float'),np.round(H_x_test_ove))\n",
    "np.set_printoptions(precision=2)\n",
    "cnf_matrix_nce = confusion_matrix(y_test.astype('float'),np.round(H_x_test_nce))\n",
    "np.set_printoptions(precision=2)\n",
    "\n",
    "plt.subplot(221)\n",
    "utilities.plot_confusion_matrix(cnf_matrix_std, classes=classes, normalize=True,\n",
    "                      title='Softmax')\n",
    "plt.subplot(222)\n",
    "utilities.plot_confusion_matrix(cnf_matrix_sm_lc, classes=classes, normalize=True,\n",
    "                      title='LC Softmax')\n",
    "plt.subplot(223)\n",
    "utilities.plot_confusion_matrix(cnf_matrix_ove, classes=classes, normalize=True,\n",
    "                      title='OVE')\n",
    "plt.subplot(224)\n",
    "utilities.plot_confusion_matrix(cnf_matrix_nce, classes=classes, normalize=True,\n",
    "                      title='NCE')"
   ]
  },
  {
   "cell_type": "code",
   "execution_count": 459,
   "metadata": {},
   "outputs": [
    {
     "name": "stdout",
     "output_type": "stream",
     "text": [
      "         TRUTH\n",
      "\n",
      "P    0 :  [1. 0. 0. 0. 0. 0. 0. 0. 0. 0.]\n",
      "R    1 :  [0. 1. 0. 0. 0. 0. 0. 0. 0. 0.]\n",
      "E    2 :  [0. 0. 1. 0. 0. 0. 0. 0. 0. 0.]\n",
      "D    3 :  [0. 0. 0. 1. 0. 0. 0. 0. 0. 0.]\n",
      "     4 :  [0. 0. 0. 0. 1. 0. 0. 0. 0. 0.]\n",
      "     5 :  [0. 0. 0. 0. 0. 1. 0. 0. 0. 0.]\n",
      "     6 :  [0. 0. 0. 0. 0. 0. 1. 0. 0. 0.]\n",
      "     7 :  [0. 0. 0. 0. 0. 0. 0. 1. 0. 0.]\n",
      "     8 :  [0. 0. 0. 0. 0. 0. 0. 0. 1. 0.]\n",
      "     9 :  [0. 0. 0. 0. 0. 0. 0. 0. 0. 1.]\n",
      "[[0. 1. 1. 1. 1. 1. 1. 1. 1. 1.]\n",
      " [1. 0. 1. 1. 1. 1. 1. 1. 1. 1.]\n",
      " [1. 1. 0. 1. 1. 1. 1. 1. 1. 1.]\n",
      " [1. 1. 1. 0. 1. 1. 1. 1. 1. 1.]\n",
      " [1. 1. 1. 1. 0. 1. 1. 1. 1. 1.]\n",
      " [1. 1. 1. 1. 1. 0. 1. 1. 1. 1.]\n",
      " [1. 1. 1. 1. 1. 1. 0. 1. 1. 1.]\n",
      " [1. 1. 1. 1. 1. 1. 1. 0. 1. 1.]\n",
      " [1. 1. 1. 1. 1. 1. 1. 1. 0. 1.]\n",
      " [1. 1. 1. 1. 1. 1. 1. 1. 1. 0.]]\n"
     ]
    }
   ],
   "source": [
    "digits = [3,8]\n",
    "np.set_printoptions(precision=3)\n",
    "L = np.copy(I)\n",
    "L[np.where(I==0)] = 1\n",
    "# L[[3,8]] = 0.7 # Select more important rows with lower loss in prediction\n",
    "L[np.where(I==1)] = 0\n",
    "\n",
    "loss_mat = L\n",
    "M = 1.000\n",
    "\n",
    "print(\"         TRUTH\\n\" )\n",
    "string = 'PRED'\n",
    "util_mat = M - loss_mat\n",
    "for i in range(num_classes):\n",
    "    if i < 4:\n",
    "        print(string[i],'  ',str(i),': ',M - loss_mat[i])\n",
    "    else:\n",
    "        print('    ',str(i),': ',M - loss_mat[i])\n",
    "        \n",
    "# Set up weight for weighted cross entropy\n",
    "\n",
    "class_weight = np.ones((num_classes))\n",
    "class_weight[digits] = 1.4\n",
    "\n",
    "print(loss_mat)"
   ]
  },
  {
   "cell_type": "code",
   "execution_count": 486,
   "metadata": {},
   "outputs": [],
   "source": [
    "import new_custom_layers"
   ]
  },
  {
   "cell_type": "markdown",
   "metadata": {},
   "source": [
    "### Stochastic loss calibration for softmax"
   ]
  },
  {
   "cell_type": "code",
   "execution_count": 491,
   "metadata": {},
   "outputs": [
    {
     "name": "stdout",
     "output_type": "stream",
     "text": [
      "(?, 10)\n",
      "WARNING:tensorflow:Output \"lc_softmax_2\" missing from loss dictionary. We assume this was done on purpose. The fit and evaluate APIs will not be expecting any data to be passed to \"lc_softmax_2\".\n"
     ]
    }
   ],
   "source": [
    "# For reproduceable results\n",
    "importlib.reload(new_custom_layers)\n",
    "importlib.reload(utilities)\n",
    "\n",
    "# Scale the KL term from the probabilistic layers for per-datapoint ELBO. \n",
    "# KL term added internally as a regularization term.\n",
    "\n",
    "scaled_kl = lambda q, p, _: tfp.distributions.kl_divergence(q, p) / tf.cast(train_samples, tf.float32)\n",
    "\n",
    "x_input =  tf.keras.Input((x_train.shape[1:]), name = 'x_input')\n",
    "y_input =  tf.keras.Input((1,), name = 'y_input')\n",
    "h_input =  tf.keras.Input((1,), name = 'h_input')\n",
    "\n",
    "outputs = x_input\n",
    "# outputs = tfp.layers.DenseReparameterization(50,\n",
    "#             activation = tf.nn.relu,\n",
    "#             kernel_divergence_fn=scaled_kl)(x_input)\n",
    "logits = new_custom_layers.LCSoftmax(\n",
    "    num_classes, \n",
    "    util_mat,\n",
    "    kernel_divergence_fn=scaled_kl)([outputs, y_input, h_input])\n",
    "\n",
    "model_sm_slc = tf.keras.Model([x_input, y_input, h_input], logits)\n",
    "model_sm_slc.compile(loss=None, optimizer='adam')\n",
    "\n",
    "\n",
    "yt_hat = np.expand_dims(I[y_train],0)\n",
    "h_train = utilities.optimal_h(yt_hat, loss_mat)\n",
    "h_test = y_test\n",
    "h_val = y_val"
   ]
  },
  {
   "cell_type": "code",
   "execution_count": 492,
   "metadata": {},
   "outputs": [
    {
     "name": "stdout",
     "output_type": "stream",
     "text": [
      "Epoch 1/1\n"
     ]
    },
    {
     "ename": "InvalidArgumentError",
     "evalue": "Incompatible shapes: [128,10] vs. [128]\n\t [[{{node lc_softmax_2/sub}} = Sub[T=DT_FLOAT, _class=[\"loc:@training_73/Adam/gradients/AddN_3\"], _device=\"/job:localhost/replica:0/task:0/device:CPU:0\"](lc_softmax_2/compute_sampled_logits/sub_1, lc_softmax_2/ReduceLogSumExp/Add)]]",
     "output_type": "error",
     "traceback": [
      "\u001b[0;31m---------------------------------------------------------------------------\u001b[0m",
      "\u001b[0;31mInvalidArgumentError\u001b[0m                      Traceback (most recent call last)",
      "\u001b[0;32m<ipython-input-492-96a79716ce2c>\u001b[0m in \u001b[0;36m<module>\u001b[0;34m()\u001b[0m\n\u001b[1;32m      5\u001b[0m                  \u001b[0mbatch_size\u001b[0m\u001b[0;34m=\u001b[0m\u001b[0mbatch_size\u001b[0m\u001b[0;34m,\u001b[0m\u001b[0;34m\u001b[0m\u001b[0m\n\u001b[1;32m      6\u001b[0m                  \u001b[0mepochs\u001b[0m\u001b[0;34m=\u001b[0m\u001b[0;36m1\u001b[0m\u001b[0;34m,\u001b[0m\u001b[0;34m\u001b[0m\u001b[0m\n\u001b[0;32m----> 7\u001b[0;31m                  verbose=1)\n\u001b[0m\u001b[1;32m      8\u001b[0m \u001b[0;31m#                  validation_data=([x_val, y_val, h_val], None))\u001b[0m\u001b[0;34m\u001b[0m\u001b[0;34m\u001b[0m\u001b[0m\n\u001b[1;32m      9\u001b[0m \u001b[0;31m#                  callbacks=[model_checkpoint])\u001b[0m\u001b[0;34m\u001b[0m\u001b[0;34m\u001b[0m\u001b[0m\n",
      "\u001b[0;32m~/ml-env/lib/python3.6/site-packages/tensorflow/python/keras/engine/training.py\u001b[0m in \u001b[0;36mfit\u001b[0;34m(self, x, y, batch_size, epochs, verbose, callbacks, validation_split, validation_data, shuffle, class_weight, sample_weight, initial_epoch, steps_per_epoch, validation_steps, max_queue_size, workers, use_multiprocessing, **kwargs)\u001b[0m\n\u001b[1;32m   1637\u001b[0m           \u001b[0minitial_epoch\u001b[0m\u001b[0;34m=\u001b[0m\u001b[0minitial_epoch\u001b[0m\u001b[0;34m,\u001b[0m\u001b[0;34m\u001b[0m\u001b[0m\n\u001b[1;32m   1638\u001b[0m           \u001b[0msteps_per_epoch\u001b[0m\u001b[0;34m=\u001b[0m\u001b[0msteps_per_epoch\u001b[0m\u001b[0;34m,\u001b[0m\u001b[0;34m\u001b[0m\u001b[0m\n\u001b[0;32m-> 1639\u001b[0;31m           validation_steps=validation_steps)\n\u001b[0m\u001b[1;32m   1640\u001b[0m \u001b[0;34m\u001b[0m\u001b[0m\n\u001b[1;32m   1641\u001b[0m   def evaluate(self,\n",
      "\u001b[0;32m~/ml-env/lib/python3.6/site-packages/tensorflow/python/keras/engine/training_arrays.py\u001b[0m in \u001b[0;36mfit_loop\u001b[0;34m(model, inputs, targets, sample_weights, batch_size, epochs, verbose, callbacks, val_inputs, val_targets, val_sample_weights, shuffle, initial_epoch, steps_per_epoch, validation_steps)\u001b[0m\n\u001b[1;32m    213\u001b[0m           \u001b[0mins_batch\u001b[0m\u001b[0;34m[\u001b[0m\u001b[0mi\u001b[0m\u001b[0;34m]\u001b[0m \u001b[0;34m=\u001b[0m \u001b[0mins_batch\u001b[0m\u001b[0;34m[\u001b[0m\u001b[0mi\u001b[0m\u001b[0;34m]\u001b[0m\u001b[0;34m.\u001b[0m\u001b[0mtoarray\u001b[0m\u001b[0;34m(\u001b[0m\u001b[0;34m)\u001b[0m\u001b[0;34m\u001b[0m\u001b[0m\n\u001b[1;32m    214\u001b[0m \u001b[0;34m\u001b[0m\u001b[0m\n\u001b[0;32m--> 215\u001b[0;31m         \u001b[0mouts\u001b[0m \u001b[0;34m=\u001b[0m \u001b[0mf\u001b[0m\u001b[0;34m(\u001b[0m\u001b[0mins_batch\u001b[0m\u001b[0;34m)\u001b[0m\u001b[0;34m\u001b[0m\u001b[0m\n\u001b[0m\u001b[1;32m    216\u001b[0m         \u001b[0;32mif\u001b[0m \u001b[0;32mnot\u001b[0m \u001b[0misinstance\u001b[0m\u001b[0;34m(\u001b[0m\u001b[0mouts\u001b[0m\u001b[0;34m,\u001b[0m \u001b[0mlist\u001b[0m\u001b[0;34m)\u001b[0m\u001b[0;34m:\u001b[0m\u001b[0;34m\u001b[0m\u001b[0m\n\u001b[1;32m    217\u001b[0m           \u001b[0mouts\u001b[0m \u001b[0;34m=\u001b[0m \u001b[0;34m[\u001b[0m\u001b[0mouts\u001b[0m\u001b[0;34m]\u001b[0m\u001b[0;34m\u001b[0m\u001b[0m\n",
      "\u001b[0;32m~/ml-env/lib/python3.6/site-packages/tensorflow/python/keras/backend.py\u001b[0m in \u001b[0;36m__call__\u001b[0;34m(self, inputs)\u001b[0m\n\u001b[1;32m   2984\u001b[0m \u001b[0;34m\u001b[0m\u001b[0m\n\u001b[1;32m   2985\u001b[0m     fetched = self._callable_fn(*array_vals,\n\u001b[0;32m-> 2986\u001b[0;31m                                 run_metadata=self.run_metadata)\n\u001b[0m\u001b[1;32m   2987\u001b[0m     \u001b[0mself\u001b[0m\u001b[0;34m.\u001b[0m\u001b[0m_call_fetch_callbacks\u001b[0m\u001b[0;34m(\u001b[0m\u001b[0mfetched\u001b[0m\u001b[0;34m[\u001b[0m\u001b[0;34m-\u001b[0m\u001b[0mlen\u001b[0m\u001b[0;34m(\u001b[0m\u001b[0mself\u001b[0m\u001b[0;34m.\u001b[0m\u001b[0m_fetches\u001b[0m\u001b[0;34m)\u001b[0m\u001b[0;34m:\u001b[0m\u001b[0;34m]\u001b[0m\u001b[0;34m)\u001b[0m\u001b[0;34m\u001b[0m\u001b[0m\n\u001b[1;32m   2988\u001b[0m     \u001b[0;32mreturn\u001b[0m \u001b[0mfetched\u001b[0m\u001b[0;34m[\u001b[0m\u001b[0;34m:\u001b[0m\u001b[0mlen\u001b[0m\u001b[0;34m(\u001b[0m\u001b[0mself\u001b[0m\u001b[0;34m.\u001b[0m\u001b[0moutputs\u001b[0m\u001b[0;34m)\u001b[0m\u001b[0;34m]\u001b[0m\u001b[0;34m\u001b[0m\u001b[0m\n",
      "\u001b[0;32m~/ml-env/lib/python3.6/site-packages/tensorflow/python/client/session.py\u001b[0m in \u001b[0;36m__call__\u001b[0;34m(self, *args, **kwargs)\u001b[0m\n\u001b[1;32m   1437\u001b[0m           ret = tf_session.TF_SessionRunCallable(\n\u001b[1;32m   1438\u001b[0m               \u001b[0mself\u001b[0m\u001b[0;34m.\u001b[0m\u001b[0m_session\u001b[0m\u001b[0;34m.\u001b[0m\u001b[0m_session\u001b[0m\u001b[0;34m,\u001b[0m \u001b[0mself\u001b[0m\u001b[0;34m.\u001b[0m\u001b[0m_handle\u001b[0m\u001b[0;34m,\u001b[0m \u001b[0margs\u001b[0m\u001b[0;34m,\u001b[0m \u001b[0mstatus\u001b[0m\u001b[0;34m,\u001b[0m\u001b[0;34m\u001b[0m\u001b[0m\n\u001b[0;32m-> 1439\u001b[0;31m               run_metadata_ptr)\n\u001b[0m\u001b[1;32m   1440\u001b[0m         \u001b[0;32mif\u001b[0m \u001b[0mrun_metadata\u001b[0m\u001b[0;34m:\u001b[0m\u001b[0;34m\u001b[0m\u001b[0m\n\u001b[1;32m   1441\u001b[0m           \u001b[0mproto_data\u001b[0m \u001b[0;34m=\u001b[0m \u001b[0mtf_session\u001b[0m\u001b[0;34m.\u001b[0m\u001b[0mTF_GetBuffer\u001b[0m\u001b[0;34m(\u001b[0m\u001b[0mrun_metadata_ptr\u001b[0m\u001b[0;34m)\u001b[0m\u001b[0;34m\u001b[0m\u001b[0m\n",
      "\u001b[0;32m~/ml-env/lib/python3.6/site-packages/tensorflow/python/framework/errors_impl.py\u001b[0m in \u001b[0;36m__exit__\u001b[0;34m(self, type_arg, value_arg, traceback_arg)\u001b[0m\n\u001b[1;32m    526\u001b[0m             \u001b[0;32mNone\u001b[0m\u001b[0;34m,\u001b[0m \u001b[0;32mNone\u001b[0m\u001b[0;34m,\u001b[0m\u001b[0;34m\u001b[0m\u001b[0m\n\u001b[1;32m    527\u001b[0m             \u001b[0mcompat\u001b[0m\u001b[0;34m.\u001b[0m\u001b[0mas_text\u001b[0m\u001b[0;34m(\u001b[0m\u001b[0mc_api\u001b[0m\u001b[0;34m.\u001b[0m\u001b[0mTF_Message\u001b[0m\u001b[0;34m(\u001b[0m\u001b[0mself\u001b[0m\u001b[0;34m.\u001b[0m\u001b[0mstatus\u001b[0m\u001b[0;34m.\u001b[0m\u001b[0mstatus\u001b[0m\u001b[0;34m)\u001b[0m\u001b[0;34m)\u001b[0m\u001b[0;34m,\u001b[0m\u001b[0;34m\u001b[0m\u001b[0m\n\u001b[0;32m--> 528\u001b[0;31m             c_api.TF_GetCode(self.status.status))\n\u001b[0m\u001b[1;32m    529\u001b[0m     \u001b[0;31m# Delete the underlying status object from memory otherwise it stays alive\u001b[0m\u001b[0;34m\u001b[0m\u001b[0;34m\u001b[0m\u001b[0m\n\u001b[1;32m    530\u001b[0m     \u001b[0;31m# as there is a reference to status from this from the traceback due to\u001b[0m\u001b[0;34m\u001b[0m\u001b[0;34m\u001b[0m\u001b[0m\n",
      "\u001b[0;31mInvalidArgumentError\u001b[0m: Incompatible shapes: [128,10] vs. [128]\n\t [[{{node lc_softmax_2/sub}} = Sub[T=DT_FLOAT, _class=[\"loc:@training_73/Adam/gradients/AddN_3\"], _device=\"/job:localhost/replica:0/task:0/device:CPU:0\"](lc_softmax_2/compute_sampled_logits/sub_1, lc_softmax_2/ReduceLogSumExp/Add)]]"
     ]
    }
   ],
   "source": [
    "\n",
    "history_model_sm_slc = []\n",
    "for epoch in range(10):\n",
    "    history_epoch = model_sm_slc.fit([x_train, y_train, h_train],\n",
    "                 batch_size=batch_size,\n",
    "                 epochs=1,\n",
    "                 verbose=1)\n",
    "#                  validation_data=([x_val, y_val, h_val], None))\n",
    "#                  callbacks=[model_checkpoint])\n",
    "    T = 1\n",
    "    yt_hat = np.array([model_sm_slc.predict([x_train, y_train, h_train]) for _ in range(T)])\n",
    "    h_train = utilities.optimal_h(yt_hat, loss_mat)\n",
    "    history_model_sm_slc.append(history_epoch)\n",
    "       "
   ]
  },
  {
   "cell_type": "code",
   "execution_count": 415,
   "metadata": {},
   "outputs": [
    {
     "name": "stdout",
     "output_type": "stream",
     "text": [
      "\n",
      "Loss calibrated softmax:\n",
      "\n",
      "Accuracy on optimal decision:  0.7574\n",
      "Expected loss:  0.2426\n"
     ]
    }
   ],
   "source": [
    "#  Softmax with stochastic loss calibration\n",
    "T = 10\n",
    "yt_hat_sm_slc = np.array([model_sm_slc.predict([x_test, y_test, h_test]) for _ in range(T)])\n",
    "H_x_test_sm_slc = utilities.optimal_h(yt_hat_sm_slc,loss_mat) \n",
    "acc_sm_slc = accuracy_score(y_test, H_x_test_sm_slc)\n",
    "loss_sm_slc = np.mean(loss_mat[y_test, H_x_test_sm_slc])\n",
    "print('\\nLoss calibrated softmax:\\n')\n",
    "print('Accuracy on optimal decision: ', acc_sm_slc)\n",
    "print('Expected loss: ', loss_sm_slc)"
   ]
  },
  {
   "cell_type": "code",
   "execution_count": 483,
   "metadata": {},
   "outputs": [
    {
     "name": "stdout",
     "output_type": "stream",
     "text": [
      "WARNING:tensorflow:Output \"softmax_9\" missing from loss dictionary. We assume this was done on purpose. The fit and evaluate APIs will not be expecting any data to be passed to \"softmax_9\".\n"
     ]
    }
   ],
   "source": [
    "importlib.reload(custom_layers)\n",
    "importlib.reload(utilities)\n",
    "\n",
    "\n",
    "# Scale the KL term from the probabilistic layers for per-datapoint ELBO. \n",
    "# KL term added internally as a regularization term.\n",
    "scaled_kl = lambda q, p, _: tfp.distributions.kl_divergence(q, p) / tf.cast(train_samples, tf.float32)\n",
    "\n",
    "x_input =  tf.keras.Input((x_train.shape[1:]), name = 'x_input')\n",
    "y_input =  tf.keras.Input((1,), name = 'y_input')\n",
    "\n",
    "outputs = x_input\n",
    "# output = tfp.layers.DenseReparameterization(50,\n",
    "#             activation = tf.nn.relu,\n",
    "#             kernel_divergence_fn=scaled_kl)(x_input)\n",
    "logits = custom_layers.Softmax( \n",
    "#     5,\n",
    "    10, \n",
    "    kernel_divergence_fn=scaled_kl)([outputs, y_input])\n",
    "\n",
    "model_sm = tf.keras.Model([x_input, y_input], logits)\n",
    "model_sm.compile(loss=None, optimizer='adam')"
   ]
  },
  {
   "cell_type": "code",
   "execution_count": 484,
   "metadata": {},
   "outputs": [
    {
     "name": "stdout",
     "output_type": "stream",
     "text": [
      "Train on 60000 samples, validate on 10000 samples\n",
      "Epoch 1/1\n",
      "60000/60000 [==============================] - 10s 171us/step - loss: 1.0849 - val_loss: 0.7346\n",
      "Train on 60000 samples, validate on 10000 samples\n",
      "Epoch 1/1\n",
      "60000/60000 [==============================] - 2s 40us/step - loss: 0.6986 - val_loss: 0.6402\n",
      "Train on 60000 samples, validate on 10000 samples\n",
      "Epoch 1/1\n",
      "60000/60000 [==============================] - 3s 46us/step - loss: 0.6246 - val_loss: 0.5830\n",
      "Train on 60000 samples, validate on 10000 samples\n",
      "Epoch 1/1\n",
      "60000/60000 [==============================] - 2s 37us/step - loss: 0.5801 - val_loss: 0.5516\n",
      "Train on 60000 samples, validate on 10000 samples\n",
      "Epoch 1/1\n",
      "60000/60000 [==============================] - 3s 42us/step - loss: 0.5472 - val_loss: 0.5258\n",
      "Train on 60000 samples, validate on 10000 samples\n",
      "Epoch 1/1\n",
      "60000/60000 [==============================] - 2s 36us/step - loss: 0.5204 - val_loss: 0.5064\n",
      "Train on 60000 samples, validate on 10000 samples\n",
      "Epoch 1/1\n",
      "60000/60000 [==============================] - 3s 43us/step - loss: 0.5027 - val_loss: 0.4892\n",
      "Train on 60000 samples, validate on 10000 samples\n",
      "Epoch 1/1\n",
      "60000/60000 [==============================] - 3s 52us/step - loss: 0.4874 - val_loss: 0.4854\n",
      "Train on 60000 samples, validate on 10000 samples\n",
      "Epoch 1/1\n",
      "60000/60000 [==============================] - 2s 39us/step - loss: 0.4773 - val_loss: 0.4751\n",
      "Train on 60000 samples, validate on 10000 samples\n",
      "Epoch 1/1\n",
      "60000/60000 [==============================] - 2s 37us/step - loss: 0.4703 - val_loss: 0.4668\n"
     ]
    }
   ],
   "source": [
    "\n",
    "history_model_sm = []\n",
    "for epoch in range(10):\n",
    "    history_epoch = model_sm.fit([x_train, y_train],\n",
    "                 batch_size=batch_size,\n",
    "                 epochs=1,\n",
    "                 verbose=1,\n",
    "                 validation_data=([x_val, y_val], None))\n",
    "#                  callbacks=[model_checkpoint])\n",
    "#     T = 10\n",
    "#     yt_hat = np.array([lc_model.predict([x_train,H_x]) for _ in range(T)])\n",
    "#     H_x = lcbnn.optimal_h(yt_hat,loss_mat)\n",
    "#     h_train = np.argmax(model.predict([x_train, y_train, h_train]), -1)\n",
    "    history_model_sm.append(history_epoch)\n",
    "       "
   ]
  },
  {
   "cell_type": "code",
   "execution_count": 485,
   "metadata": {},
   "outputs": [
    {
     "name": "stdout",
     "output_type": "stream",
     "text": [
      "Standard:\n",
      "\n",
      "Accuracy on optimal decision:  0.9244\n",
      "Expected loss:  0.0756\n"
     ]
    }
   ],
   "source": [
    "T = 10\n",
    "yt_hat_std = np.array([model_sm.predict([x_test, y_test]) for _ in range(T)])\n",
    "H_x_test_std = utilities.optimal_h(yt_hat_std,loss_mat) \n",
    "acc_std = accuracy_score(y_test, H_x_test_std)\n",
    "loss_std = np.mean(loss_mat[y_test, H_x_test_std])\n",
    "print('Standard:\\n')\n",
    "print('Accuracy on optimal decision: ', acc_std)\n",
    "print('Expected loss: ', loss_std)"
   ]
  },
  {
   "cell_type": "code",
   "execution_count": 451,
   "metadata": {},
   "outputs": [
    {
     "name": "stdout",
     "output_type": "stream",
     "text": [
      "WARNING:tensorflow:Output \"ar_layer\" missing from loss dictionary. We assume this was done on purpose. The fit and evaluate APIs will not be expecting any data to be passed to \"ar_layer\".\n"
     ]
    }
   ],
   "source": [
    "# Scale the KL term from the probabilistic layers for per-datapoint ELBO. \n",
    "# KL term added internally as a regularization term.\n",
    "importlib.reload(custom_layers)\n",
    "importlib.reload(utilities)\n",
    "\n",
    "scaled_kl = lambda q, p, _: tfp.distributions.kl_divergence(q, p) / tf.cast(train_samples, tf.float32)\n",
    "\n",
    "x_input =  tf.keras.Input((x_train.shape[1:]), name = 'x_input')\n",
    "y_input =  tf.keras.Input((1,), name = 'y_input')\n",
    "\n",
    "outputs = x_input\n",
    "# output = tfp.layers.DenseReparameterization(50,\n",
    "#             activation = tf.nn.relu,\n",
    "#             kernel_divergence_fn=scaled_kl)(x_input)\n",
    "logits = custom_layers.ARLayer(\n",
    "    5,\n",
    "    10,\n",
    "    kernel_divergence_fn=scaled_kl)([outputs, y_input])\n",
    "\n",
    "model_ar = tf.keras.Model([x_input, y_input], logits)\n",
    "model_ar.compile(loss=None, optimizer='adam')"
   ]
  },
  {
   "cell_type": "code",
   "execution_count": 452,
   "metadata": {},
   "outputs": [
    {
     "name": "stdout",
     "output_type": "stream",
     "text": [
      "Epoch 1/1\n",
      "2500/2500 [==============================] - 6s 2ms/step - loss: 10.3136\n",
      "Epoch 1/1\n",
      "2500/2500 [==============================] - 0s 47us/step - loss: 10.1262\n",
      "Epoch 1/1\n",
      "2500/2500 [==============================] - 0s 40us/step - loss: 9.9746\n",
      "Epoch 1/1\n",
      "2500/2500 [==============================] - 0s 45us/step - loss: 9.8605\n",
      "Epoch 1/1\n",
      "2500/2500 [==============================] - 0s 35us/step - loss: 9.7373\n",
      "Epoch 1/1\n",
      "2500/2500 [==============================] - 0s 52us/step - loss: 9.6626\n",
      "Epoch 1/1\n",
      "2500/2500 [==============================] - 0s 48us/step - loss: 9.5665\n",
      "Epoch 1/1\n",
      "2500/2500 [==============================] - 0s 44us/step - loss: 9.5239\n",
      "Epoch 1/1\n",
      "2500/2500 [==============================] - 0s 46us/step - loss: 9.4933\n",
      "Epoch 1/1\n",
      "2500/2500 [==============================] - 0s 49us/step - loss: 9.4010\n",
      "Epoch 1/1\n",
      "2500/2500 [==============================] - 0s 64us/step - loss: 9.3748\n",
      "Epoch 1/1\n",
      "2500/2500 [==============================] - 0s 89us/step - loss: 9.2850\n",
      "Epoch 1/1\n",
      "2500/2500 [==============================] - 0s 99us/step - loss: 9.2322\n",
      "Epoch 1/1\n",
      "2500/2500 [==============================] - 0s 91us/step - loss: 9.1969\n",
      "Epoch 1/1\n",
      "2500/2500 [==============================] - 0s 50us/step - loss: 9.1635\n",
      "Epoch 1/1\n",
      "2500/2500 [==============================] - 0s 62us/step - loss: 9.1211\n",
      "Epoch 1/1\n",
      "2500/2500 [==============================] - 0s 60us/step - loss: 9.0381\n",
      "Epoch 1/1\n",
      "2500/2500 [==============================] - 0s 63us/step - loss: 8.9581\n",
      "Epoch 1/1\n",
      "2500/2500 [==============================] - 0s 66us/step - loss: 8.9301\n",
      "Epoch 1/1\n",
      "2500/2500 [==============================] - 0s 84us/step - loss: 8.8804\n",
      "Epoch 1/1\n",
      "2500/2500 [==============================] - 0s 84us/step - loss: 8.8786\n",
      "Epoch 1/1\n",
      "2500/2500 [==============================] - 0s 84us/step - loss: 8.8352\n",
      "Epoch 1/1\n",
      "2500/2500 [==============================] - 0s 72us/step - loss: 8.7786\n",
      "Epoch 1/1\n",
      "2500/2500 [==============================] - 0s 51us/step - loss: 8.7569\n",
      "Epoch 1/1\n",
      "2500/2500 [==============================] - 0s 49us/step - loss: 8.7022\n",
      "Epoch 1/1\n",
      "2500/2500 [==============================] - 0s 60us/step - loss: 8.6324\n",
      "Epoch 1/1\n",
      "2500/2500 [==============================] - 0s 63us/step - loss: 8.6187\n",
      "Epoch 1/1\n",
      "2500/2500 [==============================] - 0s 56us/step - loss: 8.5794\n",
      "Epoch 1/1\n",
      "2500/2500 [==============================] - 0s 63us/step - loss: 8.5402\n",
      "Epoch 1/1\n",
      "2500/2500 [==============================] - 0s 73us/step - loss: 8.4401\n",
      "Epoch 1/1\n",
      "2500/2500 [==============================] - 0s 69us/step - loss: 8.4341\n",
      "Epoch 1/1\n",
      "2500/2500 [==============================] - 0s 60us/step - loss: 8.3449\n",
      "Epoch 1/1\n",
      "2500/2500 [==============================] - 0s 63us/step - loss: 8.3603\n",
      "Epoch 1/1\n",
      "2500/2500 [==============================] - 0s 67us/step - loss: 8.2977\n",
      "Epoch 1/1\n",
      "2500/2500 [==============================] - 0s 126us/step - loss: 8.2535\n",
      "Epoch 1/1\n",
      "2500/2500 [==============================] - 0s 94us/step - loss: 8.2142\n",
      "Epoch 1/1\n",
      "2500/2500 [==============================] - 0s 81us/step - loss: 8.1442\n",
      "Epoch 1/1\n",
      "2500/2500 [==============================] - 0s 82us/step - loss: 8.1601\n",
      "Epoch 1/1\n",
      "2500/2500 [==============================] - 0s 79us/step - loss: 8.0496\n",
      "Epoch 1/1\n",
      "2500/2500 [==============================] - 0s 82us/step - loss: 8.0204\n",
      "Epoch 1/1\n",
      "2500/2500 [==============================] - 0s 91us/step - loss: 8.0245\n",
      "Epoch 1/1\n",
      "2500/2500 [==============================] - 0s 102us/step - loss: 7.9578\n",
      "Epoch 1/1\n",
      "2500/2500 [==============================] - 0s 83us/step - loss: 7.8978\n",
      "Epoch 1/1\n",
      "2500/2500 [==============================] - 0s 85us/step - loss: 7.8986\n",
      "Epoch 1/1\n",
      "2500/2500 [==============================] - ETA: 0s - loss: 7.874 - 0s 105us/step - loss: 7.8719\n",
      "Epoch 1/1\n",
      "2500/2500 [==============================] - 0s 89us/step - loss: 7.7747\n",
      "Epoch 1/1\n",
      "2500/2500 [==============================] - 0s 133us/step - loss: 7.7536\n",
      "Epoch 1/1\n",
      "2500/2500 [==============================] - 0s 81us/step - loss: 7.6932\n",
      "Epoch 1/1\n",
      "2500/2500 [==============================] - 0s 82us/step - loss: 7.6504\n",
      "Epoch 1/1\n",
      "2500/2500 [==============================] - 0s 80us/step - loss: 7.6183\n"
     ]
    }
   ],
   "source": [
    "\n",
    "history_model_ar = []\n",
    "for epoch in range(50):\n",
    "    history_epoch = model_ar.fit([x_train, y_train],\n",
    "                 batch_size=batch_size,\n",
    "                 epochs=1,\n",
    "                 verbose=1)\n",
    "#                  validation_data=([x_val, y_val], None))\n",
    "#                  callbacks=[model_checkpoint])\n",
    "#     T = 10\n",
    "#     yt_hat = np.array([lc_model.predict([x_train,H_x]) for _ in range(T)])\n",
    "#     H_x = lcbnn.optimal_h(yt_hat,loss_mat)\n",
    "#     h_train = np.argmax(model.predict([x_train, y_train, h_train]), -1)\n",
    "    history_model_ar.append(history_epoch)\n",
    "       "
   ]
  },
  {
   "cell_type": "code",
   "execution_count": 453,
   "metadata": {},
   "outputs": [
    {
     "name": "stdout",
     "output_type": "stream",
     "text": [
      "Standard:\n",
      "\n",
      "Accuracy on optimal decision:  0.7336\n",
      "Expected loss:  0.2174\n"
     ]
    }
   ],
   "source": [
    "T = 10\n",
    "yt_hat_ar = np.array([model_ar.predict([x_test, y_test]) for _ in range(T)])\n",
    "H_x_test_ar = utilities.optimal_h(yt_hat_ar,loss_mat) \n",
    "acc_ar = accuracy_score(y_test, H_x_test_ar)\n",
    "loss_ar = np.mean(loss_mat[y_test, H_x_test_ar])\n",
    "print('Standard:\\n')\n",
    "print('Accuracy on optimal decision: ', acc_std)\n",
    "print('Expected loss: ', loss_ar)"
   ]
  },
  {
   "cell_type": "code",
   "execution_count": null,
   "metadata": {},
   "outputs": [],
   "source": []
  },
  {
   "cell_type": "code",
   "execution_count": null,
   "metadata": {},
   "outputs": [],
   "source": []
  }
 ],
 "metadata": {
  "kernelspec": {
   "display_name": "Python 3",
   "language": "python",
   "name": "python3"
  },
  "language_info": {
   "codemirror_mode": {
    "name": "ipython",
    "version": 3
   },
   "file_extension": ".py",
   "mimetype": "text/x-python",
   "name": "python",
   "nbconvert_exporter": "python",
   "pygments_lexer": "ipython3",
   "version": "3.6.4"
  }
 },
 "nbformat": 4,
 "nbformat_minor": 2
}
