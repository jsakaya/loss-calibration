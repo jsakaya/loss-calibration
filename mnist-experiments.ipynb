{
 "cells": [
  {
   "cell_type": "code",
   "execution_count": 3,
   "metadata": {},
   "outputs": [],
   "source": [
    "import tensorflow as tf \n",
    "import tensorflow_probability as tfp\n",
    "from tensorflow.keras.datasets import mnist"
   ]
  },
  {
   "cell_type": "code",
   "execution_count": 4,
   "metadata": {},
   "outputs": [],
   "source": [
    "import numpy as np\n",
    "\n",
    "import matplotlib.pyplot as plt\n",
    "from sklearn.metrics import accuracy_score\n",
    "from sklearn.metrics import confusion_matrix\n",
    "import seaborn as sns\n",
    "\n",
    "import argparse\n",
    "import random\n",
    "import os\n",
    "import math\n",
    "\n",
    "\n",
    "tfd = tfp.distributions"
   ]
  },
  {
   "cell_type": "code",
   "execution_count": 6,
   "metadata": {},
   "outputs": [],
   "source": [
    "import importlib\n",
    "# import new_custom_layers\n",
    "import custom_layers\n",
    "import utilities"
   ]
  },
  {
   "cell_type": "code",
   "execution_count": 7,
   "metadata": {},
   "outputs": [],
   "source": [
    "# Hyperparameter setup\n",
    "learning_rate = 0.001\n",
    "epochs = 100\n",
    "batch_size = 128\n",
    "num_classes = 10\n",
    "num_samples = 1"
   ]
  },
  {
   "cell_type": "markdown",
   "metadata": {},
   "source": [
    "### MNIST data (5000 train, 5000 val and 10000 test) with 50% noise in training data"
   ]
  },
  {
   "cell_type": "code",
   "execution_count": 8,
   "metadata": {},
   "outputs": [
    {
     "name": "stdout",
     "output_type": "stream",
     "text": [
      "x_train shape: (5000, 784)\n",
      "5000 train samples\n",
      "10000 test samples\n"
     ]
    }
   ],
   "source": [
    "# # Load and preprocess MNIST data\n",
    "# (x_train, y_train), (x_test, y_test) = mnist.load_data()\n",
    "\n",
    "# x_train = x_train.reshape([-1, 28*28])\n",
    "# x_test = x_test.reshape([-1, 28*28])\n",
    "# x_train = x_train.astype('float32')\n",
    "# x_test = x_test.astype('float32')\n",
    "# x_train /= 255\n",
    "# x_test /= 255\n",
    "\n",
    "# y_train = y_train.astype('int32')\n",
    "# y_test = y_test.astype('int32')\n",
    "\n",
    "# train_samples = x_train.shape[0]\n",
    "# print(x_train.shape[0], 'train samples')\n",
    "# print(x_test.shape[0], 'test samples')\n",
    "\n",
    "# x_val, y_val = x_test, y_test\n",
    "n_samples = 5000\n",
    "I = np.eye(num_classes)\n",
    "x_train_S, y_train_S, x_test, y_test = utilities.load_mnist(n_samples, square=False, conv=False)\n",
    "y_train_S = y_train_S.astype('int32')\n",
    "y_test = y_test.astype('int32')\n",
    "\n",
    "N = int(n_samples/2)\n",
    "\n",
    "x_val = x_train_S[N:]\n",
    "y_val = y_train_S[N:]\n",
    "\n",
    "x_train = x_train_S[:N]\n",
    "y_train = y_train_S[:N]\n",
    "\n",
    "# Add output noise to important class\n",
    "R = int(.5*N)\n",
    "r_ind = random.sample(range(0,N),R)\n",
    "r_class = np.random.randint(0,num_classes,R)\n",
    "y_train[r_ind] = r_class\n",
    "\n",
    "train_samples = N"
   ]
  },
  {
   "cell_type": "markdown",
   "metadata": {},
   "source": [
    "### Loss matrix "
   ]
  },
  {
   "cell_type": "code",
   "execution_count": 9,
   "metadata": {},
   "outputs": [
    {
     "name": "stdout",
     "output_type": "stream",
     "text": [
      "         TRUTH\n",
      "\n",
      "P    0 :  [1.e+00 1.e-04 1.e-04 1.e-04 1.e-04 1.e-04 1.e-04 1.e-04 1.e-04 1.e-04]\n",
      "R    1 :  [1.e-04 1.e+00 1.e-04 1.e-04 1.e-04 1.e-04 1.e-04 1.e-04 1.e-04 1.e-04]\n",
      "E    2 :  [1.e-04 1.e-04 1.e+00 1.e-04 1.e-04 1.e-04 1.e-04 1.e-04 1.e-04 1.e-04]\n",
      "D    3 :  [0.3 0.3 0.3 1.  0.3 0.3 0.3 0.3 0.3 0.3]\n",
      "     4 :  [1.e-04 1.e-04 1.e-04 1.e-04 1.e+00 1.e-04 1.e-04 1.e-04 1.e-04 1.e-04]\n",
      "     5 :  [1.e-04 1.e-04 1.e-04 1.e-04 1.e-04 1.e+00 1.e-04 1.e-04 1.e-04 1.e-04]\n",
      "     6 :  [1.e-04 1.e-04 1.e-04 1.e-04 1.e-04 1.e-04 1.e+00 1.e-04 1.e-04 1.e-04]\n",
      "     7 :  [1.e-04 1.e-04 1.e-04 1.e-04 1.e-04 1.e-04 1.e-04 1.e+00 1.e-04 1.e-04]\n",
      "     8 :  [0.3 0.3 0.3 0.3 0.3 0.3 0.3 0.3 1.  0.3]\n",
      "     9 :  [1.e-04 1.e-04 1.e-04 1.e-04 1.e-04 1.e-04 1.e-04 1.e-04 1.e-04 1.e+00]\n",
      "[[0.  1.  1.  1.  1.  1.  1.  1.  1.  1. ]\n",
      " [1.  0.  1.  1.  1.  1.  1.  1.  1.  1. ]\n",
      " [1.  1.  0.  1.  1.  1.  1.  1.  1.  1. ]\n",
      " [0.7 0.7 0.7 0.  0.7 0.7 0.7 0.7 0.7 0.7]\n",
      " [1.  1.  1.  1.  0.  1.  1.  1.  1.  1. ]\n",
      " [1.  1.  1.  1.  1.  0.  1.  1.  1.  1. ]\n",
      " [1.  1.  1.  1.  1.  1.  0.  1.  1.  1. ]\n",
      " [1.  1.  1.  1.  1.  1.  1.  0.  1.  1. ]\n",
      " [0.7 0.7 0.7 0.7 0.7 0.7 0.7 0.7 0.  0.7]\n",
      " [1.  1.  1.  1.  1.  1.  1.  1.  1.  0. ]]\n"
     ]
    }
   ],
   "source": [
    "digits = [3,8]\n",
    "np.set_printoptions(precision=3)\n",
    "L = np.copy(I)\n",
    "L[np.where(I==0)] = 1\n",
    "L[[3,8]] = 0.7 # Select more important rows with lower loss in prediction\n",
    "L[np.where(I==1)] = 0\n",
    "\n",
    "loss_mat = L\n",
    "M = 1.0001\n",
    "\n",
    "print(\"         TRUTH\\n\" )\n",
    "string = 'PRED'\n",
    "for i in range(num_classes):\n",
    "    if i < 4:\n",
    "        print(string[i],'  ',str(i),': ',M - loss_mat[i])\n",
    "    else:\n",
    "        print('    ',str(i),': ',M - loss_mat[i])\n",
    "        \n",
    "# Set up weight for weighted cross entropy\n",
    "\n",
    "class_weight = np.ones((num_classes))\n",
    "class_weight[digits] = 1.4\n",
    "\n",
    "print(loss_mat)"
   ]
  },
  {
   "cell_type": "markdown",
   "metadata": {},
   "source": [
    "### Softmax loss"
   ]
  },
  {
   "cell_type": "code",
   "execution_count": 13,
   "metadata": {},
   "outputs": [
    {
     "name": "stdout",
     "output_type": "stream",
     "text": [
      "WARNING:tensorflow:Output \"softmax_2\" missing from loss dictionary. We assume this was done on purpose. The fit and evaluate APIs will not be expecting any data to be passed to \"softmax_2\".\n"
     ]
    }
   ],
   "source": [
    "# Scale the KL term from the probabilistic layers for per-datapoint ELBO. \n",
    "# KL term added internally as a regularization term.\n",
    "scaled_kl = lambda q, p, _: tfp.distributions.kl_divergence(q, p) / tf.cast(train_samples, tf.float32)\n",
    "\n",
    "x_input =  tf.keras.Input((x_train.shape[1:]), name = 'x_input')\n",
    "y_input =  tf.keras.Input((1,), name = 'y_input')\n",
    "\n",
    "logits = custom_layers.Softmax( \n",
    "    10, \n",
    "    kernel_divergence_fn=scaled_kl)([x_input, y_input])\n",
    "\n",
    "model = tf.keras.Model([x_input, y_input], logits)\n",
    "model.compile(loss=None, optimizer='adam')"
   ]
  },
  {
   "cell_type": "code",
   "execution_count": 14,
   "metadata": {},
   "outputs": [],
   "source": [
    "history_model_sm = []\n",
    "for epoch in range(epochs):\n",
    "    history_epoch = model_sm.fit([x_train, y_train],\n",
    "                 batch_size=batch_size,\n",
    "                 epochs=1,\n",
    "                 verbose=0)\n",
    "    history_model_sm.append(history_epoch)"
   ]
  },
  {
   "cell_type": "code",
   "execution_count": 17,
   "metadata": {},
   "outputs": [
    {
     "ename": "ValueError",
     "evalue": "not enough values to unpack (expected 2, got 1)",
     "output_type": "error",
     "traceback": [
      "\u001b[0;31m---------------------------------------------------------------------------\u001b[0m",
      "\u001b[0;31mValueError\u001b[0m                                Traceback (most recent call last)",
      "\u001b[0;32m<ipython-input-17-8d7ce65cb7e4>\u001b[0m in \u001b[0;36m<module>\u001b[0;34m()\u001b[0m\n\u001b[1;32m      5\u001b[0m \u001b[0mH_x_test_std\u001b[0m \u001b[0;34m=\u001b[0m \u001b[0mutilities\u001b[0m\u001b[0;34m.\u001b[0m\u001b[0moptimal_h\u001b[0m\u001b[0;34m(\u001b[0m\u001b[0myt_hat_std\u001b[0m\u001b[0;34m,\u001b[0m\u001b[0mloss_mat\u001b[0m\u001b[0;34m)\u001b[0m\u001b[0;34m\u001b[0m\u001b[0m\n\u001b[1;32m      6\u001b[0m \u001b[0macc_std\u001b[0m \u001b[0;34m=\u001b[0m \u001b[0maccuracy_score\u001b[0m\u001b[0;34m(\u001b[0m\u001b[0my_test\u001b[0m\u001b[0;34m,\u001b[0m\u001b[0mH_x_test_std\u001b[0m\u001b[0;34m,\u001b[0m\u001b[0;36m1\u001b[0m\u001b[0;34m)\u001b[0m\u001b[0;34m\u001b[0m\u001b[0m\n\u001b[0;32m----> 7\u001b[0;31m \u001b[0mloss_std\u001b[0m \u001b[0;34m=\u001b[0m \u001b[0mnp\u001b[0m\u001b[0;34m.\u001b[0m\u001b[0mmean\u001b[0m\u001b[0;34m(\u001b[0m\u001b[0mutilities\u001b[0m\u001b[0;34m.\u001b[0m\u001b[0mloss_np\u001b[0m\u001b[0;34m(\u001b[0m\u001b[0my_test\u001b[0m\u001b[0;34m,\u001b[0m\u001b[0mH_x_test_std\u001b[0m\u001b[0;34m,\u001b[0m\u001b[0mloss_mat\u001b[0m\u001b[0;34m)\u001b[0m\u001b[0;34m)\u001b[0m\u001b[0;34m\u001b[0m\u001b[0m\n\u001b[0m\u001b[1;32m      8\u001b[0m \u001b[0mprint\u001b[0m\u001b[0;34m(\u001b[0m\u001b[0;34m'Standard:\\n'\u001b[0m\u001b[0;34m)\u001b[0m\u001b[0;34m\u001b[0m\u001b[0m\n\u001b[1;32m      9\u001b[0m \u001b[0mprint\u001b[0m\u001b[0;34m(\u001b[0m\u001b[0;34m'Accuracy on optimal decision: %0.2f'\u001b[0m \u001b[0;34m%\u001b[0m \u001b[0macc_std\u001b[0m\u001b[0;34m)\u001b[0m\u001b[0;34m\u001b[0m\u001b[0m\n",
      "\u001b[0;32m~/loss-calibration/utilities.py\u001b[0m in \u001b[0;36mloss_np\u001b[0;34m(y_true, y_pred, loss_mat)\u001b[0m\n\u001b[1;32m     27\u001b[0m \u001b[0;34m\u001b[0m\u001b[0m\n\u001b[1;32m     28\u001b[0m \u001b[0;34m\u001b[0m\u001b[0m\n\u001b[0;32m---> 29\u001b[0;31m         \u001b[0mN\u001b[0m\u001b[0;34m,\u001b[0m\u001b[0mD\u001b[0m \u001b[0;34m=\u001b[0m \u001b[0mnp\u001b[0m\u001b[0;34m.\u001b[0m\u001b[0mshape\u001b[0m\u001b[0;34m(\u001b[0m\u001b[0my_pred\u001b[0m\u001b[0;34m)\u001b[0m\u001b[0;34m\u001b[0m\u001b[0m\n\u001b[0m\u001b[1;32m     30\u001b[0m         \u001b[0;31m# L = np.matmul(y_pred, loss_mat)\u001b[0m\u001b[0;34m\u001b[0m\u001b[0;34m\u001b[0m\u001b[0m\n\u001b[1;32m     31\u001b[0m         \u001b[0;31m# if len(y_true) != 0:\u001b[0m\u001b[0;34m\u001b[0m\u001b[0;34m\u001b[0m\u001b[0m\n",
      "\u001b[0;31mValueError\u001b[0m: not enough values to unpack (expected 2, got 1)"
     ]
    }
   ],
   "source": [
    "T=20\n",
    "softmax = lambda x: np.exp(x) #/np.sum(np.exp(x),1, keepdims=True)\n",
    "yt_hat_std = np.array([softmax(model_sm.predict([x_test, y_test])) for _ in range(T)]) #np.argmax(y_test,1)\n",
    "MC_pred_std = np.mean(yt_hat_std, 0)\n",
    "H_x_test_std = utilities.optimal_h(yt_hat_std,loss_mat) \n",
    "acc_std = accuracy_score(y_test,H_x_test_std,1)\n",
    "loss_std = np.mean(utilities.loss_np(y_test,H_x_test_std,loss_mat))\n",
    "print('Standard:\\n')\n",
    "print('Accuracy on optimal decision: %0.2f' % acc_std)\n",
    "print('Expected loss: %0.2f' % loss_std)"
   ]
  },
  {
   "cell_type": "markdown",
   "metadata": {},
   "source": [
    "### Loss calibrated softmax loss"
   ]
  },
  {
   "cell_type": "code",
   "execution_count": null,
   "metadata": {},
   "outputs": [],
   "source": [
    "# For reproduceable results\n",
    "importlib.reload(custom_layers)\n",
    "importlib.reload(utilities)\n",
    "\n",
    "# Scale the KL term from the probabilistic layers for per-datapoint ELBO. \n",
    "# KL term added internally as a regularization term.\n",
    "\n",
    "scaled_kl = lambda q, p, _: tfp.distributions.kl_divergence(q, p) / tf.cast(train_samples, tf.float32)\n",
    "\n",
    "x_input =  tf.keras.Input((x_train.shape[1:]), name = 'x_input')\n",
    "y_input =  tf.keras.Input((1,), name = 'y_input')\n",
    "h_input =  tf.keras.Input((1,), name = 'h_input')\n",
    "\n",
    "logits = custom_layers.LCSoftmax( \n",
    "    10, \n",
    "    M,\n",
    "    loss_mat,\n",
    "    kernel_divergence_fn=scaled_kl)([x_input, y_input, h_input])\n",
    "\n",
    "model_sm_lc = tf.keras.Model([x_input, y_input, h_input], logits)\n",
    "model_sm_lc.compile(loss=None, optimizer='adam')"
   ]
  },
  {
   "cell_type": "code",
   "execution_count": null,
   "metadata": {},
   "outputs": [],
   "source": [
    "h_train = y_train\n",
    "h_test = y_test\n",
    "h_val = y_val\n",
    "\n",
    "history_model_sm_lc = []\n",
    "for epoch in range(epochs):\n",
    "    history_epoch = model_sm_lc.fit([x_train, y_train, h_train],\n",
    "                 batch_size=batch_size,\n",
    "                 epochs=1,\n",
    "                 verbose=1,\n",
    "                 validation_data=([x_val, y_val, h_val], None))\n",
    "#                  callbacks=[model_checkpoint])\n",
    "    T = 10\n",
    "    yt_hat = np.array([model_sm_lc.predict([x_train, y_train, h_train]) for _ in range(T)])\n",
    "    h_train = utilities.optimal_h(yt_hat, loss_mat)\n",
    "    history_model_sm_lc.append(history_epoch)\n",
    "       "
   ]
  },
  {
   "cell_type": "markdown",
   "metadata": {},
   "source": [
    "### One-vs-each loss"
   ]
  },
  {
   "cell_type": "code",
   "execution_count": null,
   "metadata": {},
   "outputs": [],
   "source": [
    "# For reproduceable results\n",
    "importlib.reload(custom_layers)\n",
    "importlib.reload(utilities)\n",
    "# np.random.seed(1337)\n",
    "\n",
    "# Scale the KL term from the probabilistic layers for per-datapoint ELBO. \n",
    "# KL term added internally as a regularization term.\n",
    "\n",
    "scaled_kl = lambda q, p, _: tfp.distributions.kl_divergence(q, p) / tf.cast(train_samples, tf.float32)\n",
    "\n",
    "\n",
    "x_input =  tf.keras.Input((x_train.shape[1:]), name = 'x_input')\n",
    "y_input =  tf.keras.Input((1,), name = 'y_input')\n",
    "\n",
    "logits = custom_layers.OVELayer(\n",
    "    5,\n",
    "    10, \n",
    "    kernel_divergence_fn=scaled_kl)([x_input, y_input])\n",
    "\n",
    "model_ove = tf.keras.Model([x_input, y_input], logits)\n",
    "model_ove.compile(loss=None, optimizer='adam')"
   ]
  },
  {
   "cell_type": "code",
   "execution_count": null,
   "metadata": {},
   "outputs": [],
   "source": [
    "\n",
    "history_model_ove = []\n",
    "for epoch in range(epochs):\n",
    "    history_epoch = model_ove.fit([x_train, y_train],\n",
    "                 batch_size=batch_size,\n",
    "                 epochs=1,\n",
    "                 verbose=1,\n",
    "                 validation_data=([x_val, y_val], None))\n",
    "#                  callbacks=[model_checkpoint])\n",
    "\n",
    "    history_model_ove.append(history_epoch)\n",
    "       "
   ]
  },
  {
   "cell_type": "code",
   "execution_count": null,
   "metadata": {},
   "outputs": [],
   "source": [
    "# For reproduceable results\n",
    "importlib.reload(custom_layers)\n",
    "importlib.reload(utilities)\n",
    "# np.random.seed(1337)\n",
    "\n",
    "# Scale the KL term from the probabilistic layers for per-datapoint ELBO. \n",
    "# KL term added internally as a regularization term.\n",
    "\n",
    "scaled_kl = lambda q, p, _: tfp.distributions.kl_divergence(q, p) / tf.cast(train_samples, tf.float32)\n",
    "\n",
    "\n",
    "x_input =  tf.keras.Input((x_train.shape[1:]), name = 'x_input')\n",
    "y_input =  tf.keras.Input((1,), name = 'y_input')\n",
    "\n",
    "logits = custom_layers.NCE(\n",
    "    5,\n",
    "    10, \n",
    "    kernel_divergence_fn=scaled_kl)([x_input, y_input])\n",
    "\n",
    "model_nce = tf.keras.Model([x_input, y_input], logits)\n",
    "model_nce.compile(loss=None, optimizer='adam')"
   ]
  },
  {
   "cell_type": "code",
   "execution_count": null,
   "metadata": {},
   "outputs": [],
   "source": [
    "\n",
    "history_model_nce = []\n",
    "for epoch in range(200):\n",
    "    history_epoch = model_nce.fit([x_train, y_train],\n",
    "                 batch_size=batch_size,\n",
    "                 epochs=1,\n",
    "                 verbose=1,\n",
    "                 validation_data=([x_val, y_val], None))\n",
    "#                  callbacks=[model_checkpoint])\n",
    "\n",
    "    history_model_nce.append(history_epoch)\n",
    "       "
   ]
  },
  {
   "cell_type": "markdown",
   "metadata": {},
   "source": [
    "## Risk evaluation"
   ]
  },
  {
   "cell_type": "code",
   "execution_count": null,
   "metadata": {},
   "outputs": [],
   "source": [
    "#  Softmax model\n",
    "\n",
    "T = 10\n",
    "yt_hat_std = np.array([model_sm.predict([x_test, y_test]) for _ in range(T)])\n",
    "H_x_test_std = utilities.optimal_h(yt_hat_std,loss_mat) \n",
    "acc_std = accuracy_score(y_test, H_x_test_std)\n",
    "loss_std = np.mean(loss_mat[y_test, H_x_test_std])\n",
    "print('Standard:\\n')\n",
    "print('Accuracy on optimal decision: ', acc_std)\n",
    "print('Expected loss: ', loss_std)\n",
    "\n",
    "\n",
    "# #  Softmax with loss calibration\n",
    "\n",
    "# T = 10\n",
    "# yt_hat_sm_lc = np.array([model_sm_lc.predict([x_test, y_test, h_test]) for _ in range(T)])\n",
    "# H_x_test_sm_lc = utilities.optimal_h(yt_hat_sm_lc,loss_mat) \n",
    "# acc_sm_lc = accuracy_score(y_test, H_x_test_sm_lc)\n",
    "# loss_sm_lc = np.mean(loss_mat[y_test, H_x_test_sm_lc])\n",
    "# print('\\nLoss calibrated softmax:\\n')\n",
    "# print('Accuracy on optimal decision: ', acc_sm_lc)\n",
    "# print('Expected loss: ', loss_sm_lc)\n",
    "\n",
    "\n",
    "# OVE model\n",
    "\n",
    "T = 10 \n",
    "yt_hat_ove = np.array([model_ove.predict([x_test, y_test]) for _ in range(T)])\n",
    "H_x_test_ove = utilities.optimal_h(yt_hat_ove,loss_mat) \n",
    "acc_ove = accuracy_score(y_test, H_x_test_ove)\n",
    "loss_ove = np.mean(loss_mat[y_test, H_x_test_ove])\n",
    "print('\\nOVE:\\n')\n",
    "print('Accuracy on optimal decision: ', acc_ove)\n",
    "print('Expected loss: ', loss_ove)\n",
    "\n",
    "\n",
    "\n",
    "# NCE model\n",
    "\n",
    "T = 10 \n",
    "yt_hat_nce = np.array([model_nce.predict([x_test, y_test]) for _ in range(T)])\n",
    "H_x_test_nce = utilities.optimal_h(yt_hat_nce,loss_mat) \n",
    "acc_nce = accuracy_score(y_test, H_x_test_nce)\n",
    "loss_nce = np.mean(loss_mat[y_test, H_x_test_nce])\n",
    "print('\\nNCE:\\n')\n",
    "print('Accuracy on optimal decision: ', acc_nce)\n",
    "print('Expected loss: ', loss_nce)\n"
   ]
  },
  {
   "cell_type": "code",
   "execution_count": null,
   "metadata": {},
   "outputs": [],
   "source": [
    "plt.rcParams['figure.figsize'] = (10, 10) # Width and height\n",
    "\n",
    "classes = ['0','1','2','3','4','5','6','7','8','9']\n",
    "\n",
    "\n",
    "cnf_matrix_std = confusion_matrix(y_test.astype('float'),np.round(H_x_test_std))\n",
    "np.set_printoptions(precision=2)\n",
    "cnf_matrix_sm_lc = confusion_matrix(y_test.astype('float'),np.round(H_x_test_sm_lc))\n",
    "np.set_printoptions(precision=2)\n",
    "cnf_matrix_ove = confusion_matrix(y_test.astype('float'),np.round(H_x_test_ove))\n",
    "np.set_printoptions(precision=2)\n",
    "cnf_matrix_nce = confusion_matrix(y_test.astype('float'),np.round(H_x_test_nce))\n",
    "np.set_printoptions(precision=2)\n",
    "\n",
    "plt.subplot(221)\n",
    "utilities.plot_confusion_matrix(cnf_matrix_std, classes=classes, normalize=True,\n",
    "                      title='Softmax')\n",
    "plt.subplot(222)\n",
    "utilities.plot_confusion_matrix(cnf_matrix_sm_lc, classes=classes, normalize=True,\n",
    "                      title='LC Softmax')\n",
    "plt.subplot(223)\n",
    "utilities.plot_confusion_matrix(cnf_matrix_ove, classes=classes, normalize=True,\n",
    "                      title='OVE')\n",
    "plt.subplot(224)\n",
    "utilities.plot_confusion_matrix(cnf_matrix_nce, classes=classes, normalize=True,\n",
    "                      title='NCE')"
   ]
  },
  {
   "cell_type": "code",
   "execution_count": null,
   "metadata": {},
   "outputs": [],
   "source": [
    "digits = [3,8]\n",
    "np.set_printoptions(precision=3)\n",
    "L = np.copy(I)\n",
    "L[np.where(I==0)] = 1\n",
    "L[[3,8]] = 0.7 # Select more important rows with lower loss in prediction\n",
    "L[np.where(I==1)] = 0\n",
    "\n",
    "loss_mat = L\n",
    "M = 1.000\n",
    "\n",
    "print(\"         TRUTH\\n\" )\n",
    "string = 'PRED'\n",
    "util_mat = M - loss_mat\n",
    "for i in range(num_classes):\n",
    "    if i < 4:\n",
    "        print(string[i],'  ',str(i),': ',M - loss_mat[i])\n",
    "    else:\n",
    "        print('    ',str(i),': ',M - loss_mat[i])\n",
    "        \n",
    "# Set up weight for weighted cross entropy\n",
    "\n",
    "class_weight = np.ones((num_classes))\n",
    "class_weight[digits] = 1.4\n",
    "\n",
    "print(loss_mat)"
   ]
  },
  {
   "cell_type": "code",
   "execution_count": null,
   "metadata": {},
   "outputs": [],
   "source": [
    "import new_custom_layers\n",
    "import custom_layers"
   ]
  },
  {
   "cell_type": "markdown",
   "metadata": {},
   "source": [
    "### Stochastic loss calibration for softmax"
   ]
  },
  {
   "cell_type": "code",
   "execution_count": null,
   "metadata": {},
   "outputs": [],
   "source": [
    "# For reproduceable results\n",
    "importlib.reload(new_custom_layers)\n",
    "importlib.reload(utilities)\n",
    "\n",
    "# Scale the KL term from the probabilistic layers for per-datapoint ELBO. \n",
    "# KL term added internally as a regularization term.\n",
    "\n",
    "scaled_kl = lambda q, p, _: tfp.distributions.kl_divergence(q, p) / tf.cast(train_samples, tf.float32)\n",
    "\n",
    "x_input =  tf.keras.Input((x_train.shape[1:]), name = 'x_input')\n",
    "y_input =  tf.keras.Input((1,), name = 'y_input')\n",
    "\n",
    "outputs = x_input\n",
    "logits = new_custom_layers.DUCARLayer(\n",
    "    5,\n",
    "    num_classes, \n",
    "    util_mat,\n",
    "    kernel_divergence_fn=scaled_kl)([outputs, y_input])\n",
    "\n",
    "model_sm_slc = tf.keras.Model([x_input, y_input], logits)\n",
    "model_sm_slc.compile(loss=None, optimizer='adam')"
   ]
  },
  {
   "cell_type": "code",
   "execution_count": null,
   "metadata": {
    "scrolled": true
   },
   "outputs": [],
   "source": [
    "# history_model_sm_slc = []\n",
    "# for epoch in range(10):\n",
    "history_epoch = model_sm_slc.fit([x_train, y_train],\n",
    "             batch_size=batch_size,\n",
    "             epochs=10,\n",
    "             verbose=1)\n",
    "#                  validation_data=([x_val, y_val, h_val], None))\n",
    "#                  callbacks=[model_checkpoint])\n",
    "#     T = 1\n",
    "#     yt_hat = np.array([model_sm_slc.predict([x_train, y_train, h_train]) for _ in range(T)])\n",
    "#     h_train = utilities.optimal_h(yt_hat, loss_mat)\n",
    "#     history_model_sm_slc.append(history_epoch)\n",
    "       \n",
    "#     h_train = model_sm_slc.predict([x_train, y_train, h_train])"
   ]
  },
  {
   "cell_type": "code",
   "execution_count": null,
   "metadata": {},
   "outputs": [],
   "source": [
    "#  Softmax with stochastic loss calibration\n",
    "T = 10\n",
    "yt_hat_sm_slc = np.array([np.exp(model_sm_slc.predict([x_test, y_test])) for _ in range(T)])\n",
    "H_x_test_sm_slc = utilities.optimal_h(yt_hat_sm_slc,loss_mat) \n",
    "acc_sm_slc = accuracy_score(y_test, H_x_test_sm_slc)\n",
    "loss_sm_slc = np.mean(loss_mat[y_test, H_x_test_sm_slc])\n",
    "print('\\nLoss calibrated softmax:\\n')\n",
    "print('Accuracy on optimal decision: ', acc_sm_slc)\n",
    "print('Expected loss: ', loss_sm_slc)"
   ]
  },
  {
   "cell_type": "code",
   "execution_count": null,
   "metadata": {},
   "outputs": [],
   "source": [
    "importlib.reload(new_custom_layers)\n",
    "importlib.reload(utilities)\n",
    "\n",
    "\n",
    "# Scale the KL term from the probabilistic layers for per-datapoint ELBO. \n",
    "# KL term added internally as a regularization term.\n",
    "scaled_kl = lambda q, p, _: tfp.distributions.kl_divergence(q, p) / tf.cast(train_samples, tf.float32)\n",
    "\n",
    "x_input =  tf.keras.Input((x_train.shape[1:]), name = 'x_input')\n",
    "y_input =  tf.keras.Input((1,), name = 'y_input')\n",
    "\n",
    "outputs = x_input\n",
    "# output = tfp.layers.DenseReparameterization(50,\n",
    "#             activation = tf.nn.relu,\n",
    "#             kernel_divergence_fn=scaled_kl)(x_input)\n",
    "logits = custom_layers.DUCARLayer( \n",
    "    5,\n",
    "    num_classes, \n",
    "    M,\n",
    "    util_mat,\n",
    "    kernel_divergence_fn=scaled_kl)([outputs, y_input])\n",
    "\n",
    "model_sm = tf.keras.Model([x_input, y_input], logits)\n",
    "model_sm.compile(loss=None, optimizer='adam')"
   ]
  },
  {
   "cell_type": "code",
   "execution_count": null,
   "metadata": {},
   "outputs": [],
   "source": [
    "\n",
    "history_model_sm = []\n",
    "for epoch in range(10):\n",
    "    history_epoch = model_sm.fit([x_train, y_train],\n",
    "                 batch_size=batch_size,\n",
    "                 epochs=1,\n",
    "                 verbose=1)\n",
    "    history_model_sm.append(history_epoch)\n",
    "       "
   ]
  },
  {
   "cell_type": "code",
   "execution_count": null,
   "metadata": {},
   "outputs": [],
   "source": [
    "T = 10\n",
    "yt_hat_std = np.array([np.exp(model_sm.predict([x_test, y_test])) for _ in range(T)])\n",
    "H_x_test_std = utilities.optimal_h(yt_hat_std,loss_mat) \n",
    "acc_std = accuracy_score(y_test, H_x_test_std)\n",
    "loss_std = np.mean(loss_mat[y_test, H_x_test_std])\n",
    "print('Standard:\\n')\n",
    "print('Accuracy on optimal decision: ', acc_std)\n",
    "print('Expected loss: ', loss_std)"
   ]
  },
  {
   "cell_type": "code",
   "execution_count": null,
   "metadata": {},
   "outputs": [],
   "source": [
    "loss_mat"
   ]
  },
  {
   "cell_type": "code",
   "execution_count": null,
   "metadata": {},
   "outputs": [],
   "source": [
    "# Scale the KL term from the probabilistic layers for per-datapoint ELBO. \n",
    "# KL term added internally as a regularization term.\n",
    "importlib.reload(custom_layers)\n",
    "importlib.reload(utilities)\n",
    "\n",
    "scaled_kl = lambda q, p, _: tfp.distributions.kl_divergence(q, p) / tf.cast(train_samples, tf.float32)\n",
    "\n",
    "x_input =  tf.keras.Input((x_train.shape[1:]), name = 'x_input')\n",
    "y_input =  tf.keras.Input((1,), name = 'y_input')\n",
    "\n",
    "outputs = x_input\n",
    "# output = tfp.layers.DenseReparameterization(50,\n",
    "#             activation = tf.nn.relu,\n",
    "#             kernel_divergence_fn=scaled_kl)(x_input)\n",
    "logits = custom_layers.ARLayer(\n",
    "    5,\n",
    "    10,\n",
    "    kernel_divergence_fn=scaled_kl)([outputs, y_input])\n",
    "\n",
    "model_ar = tf.keras.Model([x_input, y_input], logits)\n",
    "model_ar.compile(loss=None, optimizer='adam')"
   ]
  },
  {
   "cell_type": "code",
   "execution_count": null,
   "metadata": {},
   "outputs": [],
   "source": [
    "\n",
    "history_model_ar = []\n",
    "for epoch in range(10):\n",
    "    history_epoch = model_ar.fit([x_train, y_train],\n",
    "                 batch_size=batch_size,\n",
    "                 epochs=1,\n",
    "                 verbose=1)\n",
    "#                  validation_data=([x_val, y_val], None))\n",
    "#                  callbacks=[model_checkpoint])\n",
    "#     T = 10\n",
    "#     yt_hat = np.array([lc_model.predict([x_train,H_x]) for _ in range(T)])\n",
    "#     H_x = lcbnn.optimal_h(yt_hat,loss_mat)\n",
    "#     h_train = np.argmax(model.predict([x_train, y_train, h_train]), -1)\n",
    "    history_model_ar.append(history_epoch)\n",
    "       "
   ]
  },
  {
   "cell_type": "code",
   "execution_count": null,
   "metadata": {},
   "outputs": [],
   "source": [
    "T = 10\n",
    "yt_hat_ar = np.array([(model_ar.predict([x_test, y_test])) for _ in range(T)])\n",
    "H_x_test_ar = utilities.optimal_h(yt_hat_ar,loss_mat) \n",
    "acc_ar = accuracy_score(y_test, H_x_test_ar)\n",
    "loss_ar = np.mean(loss_mat[y_test, H_x_test_ar])\n",
    "print('Standard:\\n')\n",
    "print('Accuracy on optimal decision: ', acc_std)\n",
    "print('Expected loss: ', loss_ar)"
   ]
  },
  {
   "cell_type": "code",
   "execution_count": null,
   "metadata": {},
   "outputs": [],
   "source": []
  },
  {
   "cell_type": "code",
   "execution_count": null,
   "metadata": {},
   "outputs": [],
   "source": [
    "tf.RaggedTensor"
   ]
  },
  {
   "cell_type": "code",
   "execution_count": null,
   "metadata": {},
   "outputs": [],
   "source": [
    "# Scale the KL term from the probabilistic layers for per-datapoint ELBO. \n",
    "# KL term added internally as a regularization term.\n",
    "scaled_kl = lambda q, p, _: tfp.distributions.kl_divergence(q, p) / tf.cast(train_samples, tf.float32)\n",
    "\n",
    "x_input =  tf.keras.Input((x_train.shape[1:]), name = 'x_input')\n",
    "y_input =  tf.keras.Input((1,), name = 'y_input')\n",
    "\n",
    "logits = new_custom_layers.ARLayer( \n",
    "    5,\n",
    "    10, \n",
    "    kernel_divergence_fn=scaled_kl)([x_input, y_input])\n",
    "\n",
    "model_sm = tf.keras.Model([x_input, y_input], logits)\n",
    "model_sm.compile(loss=None, optimizer='adam')"
   ]
  },
  {
   "cell_type": "code",
   "execution_count": null,
   "metadata": {},
   "outputs": [],
   "source": [
    "\n",
    "history_model_sm = []\n",
    "for epoch in range(10):\n",
    "    history_epoch = model_sm.fit([x_train, y_train],\n",
    "                 batch_size=batch_size,\n",
    "                 epochs=1,\n",
    "                 verbose=1)\n",
    "#                  validation_data=([x_val, y_val], None))\n",
    "#                  callbacks=[model_checkpoint])\n",
    "#     T = 10\n",
    "#     yt_hat = np.array([lc_model.predict([x_train,H_x]) for _ in range(T)])\n",
    "#     H_x = lcbnn.optimal_h(yt_hat,loss_mat)\n",
    "#     h_train = np.argmax(model.predict([x_train, y_train, h_train]), -1)\n",
    "    history_model_sm.append(history_epoch)\n",
    "       "
   ]
  },
  {
   "cell_type": "code",
   "execution_count": null,
   "metadata": {},
   "outputs": [],
   "source": [
    "T = 10\n",
    "yt_hat_std = np.array([np.exp(model_sm.predict([x_test, y_test])) for _ in range(T)])\n",
    "H_x_test_std = utilities.optimal_h(yt_hat_std,loss_mat) \n",
    "acc_std = accuracy_score(y_test, H_x_test_std)\n",
    "loss_std = np.mean(loss_mat[y_test, H_x_test_std])\n",
    "print('Standard:\\n')\n",
    "print('Accuracy on optimal decision: ', acc_std)\n",
    "print('Expected loss: ', loss_std)"
   ]
  },
  {
   "cell_type": "code",
   "execution_count": null,
   "metadata": {},
   "outputs": [],
   "source": [
    "# Scale the KL term from the probabilistic layers for per-datapoint ELBO. \n",
    "# KL term added internally as a regularization term.\n",
    "scaled_kl = lambda q, p, _: tfp.distributions.kl_divergence(q, p) / tf.cast(train_samples, tf.float32)\n",
    "\n",
    "x_input =  tf.keras.Input((x_train.shape[1:]), name = 'x_input')\n",
    "y_input =  tf.keras.Input((1,), name = 'y_input')\n",
    "\n",
    "logits = new_custom_layers.Softmax( \n",
    "#     5,\n",
    "    10, \n",
    "    kernel_divergence_fn=scaled_kl)([x_input, y_input])\n",
    "\n",
    "model_sm = tf.keras.Model([x_input, y_input], logits)\n",
    "model_sm.compile(loss=None, optimizer='adam')"
   ]
  },
  {
   "cell_type": "code",
   "execution_count": null,
   "metadata": {},
   "outputs": [],
   "source": [
    "\n",
    "history_model_sm = []\n",
    "for epoch in range(10):\n",
    "    history_epoch = model_sm.fit([x_train, y_train],\n",
    "                 batch_size=batch_size,\n",
    "                 epochs=1,\n",
    "                 verbose=1)\n",
    "#                  validation_data=([x_val, y_val], None))\n",
    "#                  callbacks=[model_checkpoint])\n",
    "#     T = 10\n",
    "#     yt_hat = np.array([lc_model.predict([x_train,H_x]) for _ in range(T)])\n",
    "#     H_x = lcbnn.optimal_h(yt_hat,loss_mat)\n",
    "#     h_train = np.argmax(model.predict([x_train, y_train, h_train]), -1)\n",
    "    history_model_sm.append(history_epoch)\n",
    "       "
   ]
  },
  {
   "cell_type": "code",
   "execution_count": null,
   "metadata": {},
   "outputs": [],
   "source": [
    "T = 10\n",
    "yt_hat_std = np.array([np.exp(model_sm.predict([x_test, y_test])) for _ in range(T)])\n",
    "H_x_test_std = utilities.optimal_h(yt_hat_std,loss_mat) \n",
    "acc_std = accuracy_score(y_test, H_x_test_std)\n",
    "loss_std = np.mean(loss_mat[y_test, H_x_test_std])\n",
    "print('Standard:\\n')\n",
    "print('Accuracy on optimal decision: ', acc_std)\n",
    "print('Expected loss: ', loss_std)"
   ]
  },
  {
   "cell_type": "code",
   "execution_count": null,
   "metadata": {},
   "outputs": [],
   "source": [
    "# Scale the KL term from the probabilistic layers for per-datapoint ELBO. \n",
    "# KL term added internally as a regularization term.\n",
    "importlib.reload(new_custom_layers)\n",
    "importlib.reload(utilities)\n",
    "\n",
    "scaled_kl = lambda q, p, _: tfp.distributions.kl_divergence(q, p) / tf.cast(train_samples, tf.float32)\n",
    "\n",
    "x_input =  tf.keras.Input((x_train.shape[1:]), name = 'x_input')\n",
    "y_input =  tf.keras.Input((1,), name = 'y_input')\n",
    "\n",
    "logits = new_custom_layers.OVELayer( \n",
    "    5,\n",
    "    10, \n",
    "#     util_mat,\n",
    "    kernel_divergence_fn=scaled_kl)([x_input, y_input])\n",
    "\n",
    "model_sm = tf.keras.Model([x_input, y_input], logits)\n",
    "model_sm.compile(loss=None, optimizer='adam')"
   ]
  },
  {
   "cell_type": "code",
   "execution_count": null,
   "metadata": {},
   "outputs": [],
   "source": [
    "history_epoch = model_sm.fit([x_train, y_train],\n",
    "             batch_size=batch_size,\n",
    "             epochs=10,\n",
    "             verbose=1)\n",
    "#                  validation_data=([x_val, y_val], None))\n",
    "#                  callbacks=[model_checkpoint])\n",
    "#     T = 10\n",
    "#     yt_hat = np.array([lc_model.predict([x_train,H_x]) for _ in range(T)])\n",
    "#     H_x = lcbnn.optimal_h(yt_hat,loss_mat)\n",
    "#     h_train = np.argmax(model.predict([x_train, y_train, h_train]), -1)\n",
    "#     history_model_sm.append(history_epoch)\n",
    "       "
   ]
  },
  {
   "cell_type": "code",
   "execution_count": null,
   "metadata": {},
   "outputs": [],
   "source": [
    "T = 10\n",
    "yt_hat_std = np.array([np.exp(model_sm.predict([x_test, y_test])) for _ in range(T)])\n",
    "H_x_test_std = utilities.optimal_h(yt_hat_std,loss_mat) \n",
    "acc_std = accuracy_score(y_test, H_x_test_std)\n",
    "loss_std = np.mean(loss_mat[y_test, H_x_test_std])\n",
    "print('Standard:\\n')\n",
    "print('Accuracy on optimal decision: ', acc_std)\n",
    "print('Expected loss: ', loss_std)"
   ]
  },
  {
   "cell_type": "code",
   "execution_count": null,
   "metadata": {},
   "outputs": [],
   "source": [
    "loss_mat"
   ]
  },
  {
   "cell_type": "code",
   "execution_count": null,
   "metadata": {},
   "outputs": [],
   "source": [
    "loss_mat"
   ]
  },
  {
   "cell_type": "code",
   "execution_count": null,
   "metadata": {},
   "outputs": [],
   "source": [
    "# Scale the KL term from the probabilistic layers for per-datapoint ELBO. \n",
    "# KL term added internally as a regularization term.\n",
    "importlib.reload(new_custom_layers)\n",
    "importlib.reload(utilities)\n",
    "\n",
    "scaled_kl = lambda q, p, _: tfp.distributions.kl_divergence(q, p) / tf.cast(train_samples, tf.float32)\n",
    "\n",
    "x_input =  tf.keras.Input((x_train.shape[1:]), name = 'x_input')\n",
    "y_input =  tf.keras.Input((1,), name = 'y_input')\n",
    "h_input =  tf.keras.Input((1,), name = 'h_input')\n",
    "\n",
    "logits = custom_layers.SUCSoftmax( \n",
    "#     5,\n",
    "    10, \n",
    "    util_mat,\n",
    "    kernel_divergence_fn=scaled_kl)([x_input, y_input, h_input])\n",
    "\n",
    "model_sm = tf.keras.Model([x_input, y_input, h_input], logits)\n",
    "model_sm.compile(loss=None, optimizer='adam')\n",
    "\n",
    "T = 1\n",
    "h_train = y_train[:]\n",
    "yt_hat = np.array([model_sm.predict([x_train, y_train, h_train]) for _ in range(T)])\n",
    "h_train = utilities.optimal_h(yt_hat, loss_mat)"
   ]
  },
  {
   "cell_type": "code",
   "execution_count": null,
   "metadata": {},
   "outputs": [],
   "source": [
    "# history_model_sm_slc = []\n",
    "for epoch in range(10):\n",
    "    history_epoch = model_sm.fit([x_train, y_train, h_train],\n",
    "             batch_size=batch_size,\n",
    "             epochs=1,\n",
    "             verbose=1)\n",
    "    T = 1\n",
    "    yt_hat = np.array([model_sm.predict([x_train, y_train, h_train]) for _ in range(T)])\n",
    "    h_train = utilities.optimal_h(yt_hat, loss_mat)\n",
    "#     h_train = model_sm_slc.predict([x_train, y_train, h_train])"
   ]
  },
  {
   "cell_type": "code",
   "execution_count": null,
   "metadata": {},
   "outputs": [],
   "source": [
    "T = 10\n",
    "yt_hat_std = np.array([np.exp(model_sm.predict([x_test, y_test])) for _ in range(T)])\n",
    "H_x_test_std = utilities.optimal_h(yt_hat_std,loss_mat) \n",
    "acc_std = accuracy_score(y_test, H_x_test_std)\n",
    "loss_std = np.mean(loss_mat[y_test, H_x_test_std])\n",
    "print('Standard:\\n')\n",
    "print('Accuracy on optimal decision: ', acc_std)\n",
    "print('Expected loss: ', loss_std)"
   ]
  },
  {
   "cell_type": "code",
   "execution_count": null,
   "metadata": {},
   "outputs": [],
   "source": [
    "rows = [[i] for i in range(num_classes)]\n",
    "cols = [[i] for i in range(num_classes)]\n",
    "vals = [[1] for i in range(num_classes)]"
   ]
  },
  {
   "cell_type": "code",
   "execution_count": null,
   "metadata": {},
   "outputs": [],
   "source": [
    "util_mat = 1 - np.eye(num_classes)\n",
    "loss_mat = np.eye(num_classes)"
   ]
  },
  {
   "cell_type": "code",
   "execution_count": null,
   "metadata": {},
   "outputs": [],
   "source": [
    "util_mat"
   ]
  },
  {
   "cell_type": "code",
   "execution_count": null,
   "metadata": {},
   "outputs": [],
   "source": [
    "# Scale the KL term from the probabilistic layers for per-datapoint ELBO. \n",
    "# KL term added internally as a regularization term.\n",
    "importlib.reload(new_custom_layers)\n",
    "importlib.reload(utilities)\n",
    "\n",
    "scaled_kl = lambda q, p, _: tfp.distributions.kl_divergence(q, p) / tf.cast(train_samples, tf.float32)\n",
    "\n",
    "x_input =  tf.keras.Input((x_train.shape[1:]), name = 'x_input')\n",
    "y_input =  tf.keras.Input((1,), name = 'y_input')\n",
    "\n",
    "logits = new_custom_layers.SUCSoftmax( \n",
    "#     5,\n",
    "    num_classes, \n",
    "    rows, cols, vals,\n",
    "#     util_mat,\n",
    "    kernel_divergence_fn=scaled_kl)([x_input, y_input])\n",
    "\n",
    "model_sm = tf.keras.Model([x_input, y_input], logits)\n",
    "model_sm.compile(loss=None, optimizer='adam')"
   ]
  },
  {
   "cell_type": "code",
   "execution_count": null,
   "metadata": {},
   "outputs": [],
   "source": [
    "history_epoch = model_sm.fit([x_train, y_train],\n",
    "         batch_size=batch_size,\n",
    "         epochs=10,\n",
    "         verbose=1)"
   ]
  },
  {
   "cell_type": "code",
   "execution_count": null,
   "metadata": {},
   "outputs": [],
   "source": [
    "T = 10\n",
    "yt_hat_std = np.array([np.exp(model_sm.predict([x_test, y_test])) for _ in range(T)])\n",
    "H_x_test_std = utilities.optimal_h(yt_hat_std,loss_mat) \n",
    "acc_std = accuracy_score(y_test, H_x_test_std)\n",
    "loss_std = np.mean(loss_mat[y_test, H_x_test_std])\n",
    "print('Standard:\\n')\n",
    "print('Accuracy on optimal decision: ', acc_std)\n",
    "print('Expected loss: ', loss_std)"
   ]
  },
  {
   "cell_type": "code",
   "execution_count": null,
   "metadata": {},
   "outputs": [],
   "source": [
    "model_sm.predict([x_test, y_test])"
   ]
  },
  {
   "cell_type": "code",
   "execution_count": null,
   "metadata": {},
   "outputs": [],
   "source": [
    "rows"
   ]
  },
  {
   "cell_type": "code",
   "execution_count": null,
   "metadata": {},
   "outputs": [],
   "source": [
    "cols"
   ]
  },
  {
   "cell_type": "code",
   "execution_count": null,
   "metadata": {},
   "outputs": [],
   "source": [
    "importlib.reload(custom_layers)"
   ]
  },
  {
   "cell_type": "code",
   "execution_count": null,
   "metadata": {},
   "outputs": [],
   "source": [
    "# Scale the KL term from the probabilistic layers for per-datapoint ELBO. \n",
    "# KL term added internally as a regularization term.\n",
    "importlib.reload(custom_layers)\n",
    "importlib.reload(utilities)\n",
    "\n",
    "scaled_kl = lambda q, p, _: tfp.distributions.kl_divergence(q, p) / tf.cast(train_samples, tf.float32)\n",
    "\n",
    "x_input =  tf.keras.Input((x_train.shape[1:]), name = 'x_input')\n",
    "y_input =  tf.keras.Input((1,), name = 'y_input')\n",
    "\n",
    "logits = custom_layers.DUCSoftmax( \n",
    "#     5,\n",
    "    num_classes, \n",
    "    util_mat,\n",
    "    kernel_divergence_fn=scaled_kl)([x_input, y_input])\n",
    "\n",
    "model_sm = tf.keras.Model([x_input, y_input], logits)\n",
    "model_sm.compile(loss=None, optimizer='adam')"
   ]
  },
  {
   "cell_type": "code",
   "execution_count": null,
   "metadata": {},
   "outputs": [],
   "source": []
  }
 ],
 "metadata": {
  "kernelspec": {
   "display_name": "Python 3",
   "language": "python",
   "name": "python3"
  },
  "language_info": {
   "codemirror_mode": {
    "name": "ipython",
    "version": 3
   },
   "file_extension": ".py",
   "mimetype": "text/x-python",
   "name": "python",
   "nbconvert_exporter": "python",
   "pygments_lexer": "ipython3",
   "version": "3.6.4"
  }
 },
 "nbformat": 4,
 "nbformat_minor": 2
}
