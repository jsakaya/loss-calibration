{
 "cells": [
  {
   "cell_type": "code",
   "execution_count": 1,
   "metadata": {},
   "outputs": [],
   "source": [
    "import tensorflow as tf \n",
    "import tensorflow_probability as tfp\n",
    "from tensorflow.keras.datasets import mnist"
   ]
  },
  {
   "cell_type": "code",
   "execution_count": 2,
   "metadata": {},
   "outputs": [
    {
     "name": "stderr",
     "output_type": "stream",
     "text": [
      "/Users/sakaya/ml-env/lib/python3.6/importlib/_bootstrap.py:219: ImportWarning: can't resolve package from __spec__ or __package__, falling back on __name__ and __path__\n",
      "  return f(*args, **kwds)\n",
      "/Users/sakaya/ml-env/lib/python3.6/importlib/_bootstrap.py:219: ImportWarning: can't resolve package from __spec__ or __package__, falling back on __name__ and __path__\n",
      "  return f(*args, **kwds)\n"
     ]
    }
   ],
   "source": [
    "import numpy as np\n",
    "\n",
    "import matplotlib.pyplot as plt\n",
    "from sklearn.metrics import accuracy_score\n",
    "from sklearn.metrics import confusion_matrix\n",
    "import seaborn as sns\n",
    "\n",
    "import argparse\n",
    "import random\n",
    "import os\n",
    "\n",
    "tfd = tfp.distributions"
   ]
  },
  {
   "cell_type": "code",
   "execution_count": 3,
   "metadata": {},
   "outputs": [],
   "source": [
    "import importlib\n",
    "import custom_layers\n",
    "import utilities"
   ]
  },
  {
   "cell_type": "code",
   "execution_count": 4,
   "metadata": {},
   "outputs": [],
   "source": [
    "# Hyperparameter setup\n",
    "learning_rate = 0.001\n",
    "epochs = 100\n",
    "batch_size = 128\n",
    "num_classes = 10\n",
    "num_samples = 1"
   ]
  },
  {
   "cell_type": "markdown",
   "metadata": {},
   "source": [
    "### MNIST data (5000 train, 5000 val and 10000 test) with 50% noise in training data"
   ]
  },
  {
   "cell_type": "code",
   "execution_count": 8,
   "metadata": {},
   "outputs": [
    {
     "name": "stdout",
     "output_type": "stream",
     "text": [
      "x_train shape: (5000, 784)\n",
      "5000 train samples\n",
      "10000 test samples\n"
     ]
    }
   ],
   "source": [
    "# # Load and preprocess MNIST data\n",
    "# (x_train, y_train), (x_test, y_test) = mnist.load_data()\n",
    "\n",
    "# x_train = x_train.reshape([-1, 28*28])\n",
    "# x_test = x_test.reshape([-1, 28*28])\n",
    "# x_train = x_train.astype('float32')\n",
    "# x_test = x_test.astype('float32')\n",
    "# x_train /= 255\n",
    "# x_test /= 255\n",
    "\n",
    "# y_train = y_train.astype('int32')\n",
    "# y_test = y_test.astype('int32')\n",
    "\n",
    "# train_samples = x_train.shape[0]\n",
    "# print(x_train.shape[0], 'train samples')\n",
    "# print(x_test.shape[0], 'test samples')\n",
    "\n",
    "# x_val, y_val = x_test, y_test\n",
    "n_samples = 5000\n",
    "I = np.eye(num_classes)\n",
    "x_train_S, y_train_S, x_test, y_test = utilities.load_mnist(n_samples, square=False, conv=False)\n",
    "y_train_S = y_train_S.astype('int32')\n",
    "y_test = y_test.astype('int32')\n",
    "\n",
    "N = int(n_samples/2)\n",
    "\n",
    "x_val = x_train_S[N:]\n",
    "y_val = y_train_S[N:]\n",
    "\n",
    "x_train = x_train_S[:N]\n",
    "y_train = y_train_S[:N]\n",
    "\n",
    "# Add output noise to important class\n",
    "R = int(.5*N)\n",
    "r_ind = random.sample(range(0,N),R)\n",
    "r_class = np.random.randint(0,num_classes,R)\n",
    "y_train[r_ind] = r_class\n",
    "\n",
    "train_samples = N"
   ]
  },
  {
   "cell_type": "markdown",
   "metadata": {},
   "source": [
    "### Loss matrix "
   ]
  },
  {
   "cell_type": "code",
   "execution_count": 9,
   "metadata": {},
   "outputs": [
    {
     "name": "stdout",
     "output_type": "stream",
     "text": [
      "         TRUTH\n",
      "\n",
      "P    0 :  [1.e+00 1.e-04 1.e-04 1.e-04 1.e-04 1.e-04 1.e-04 1.e-04 1.e-04 1.e-04]\n",
      "R    1 :  [1.e-04 1.e+00 1.e-04 1.e-04 1.e-04 1.e-04 1.e-04 1.e-04 1.e-04 1.e-04]\n",
      "E    2 :  [1.e-04 1.e-04 1.e+00 1.e-04 1.e-04 1.e-04 1.e-04 1.e-04 1.e-04 1.e-04]\n",
      "D    3 :  [0.3 0.3 0.3 1.  0.3 0.3 0.3 0.3 0.3 0.3]\n",
      "     4 :  [1.e-04 1.e-04 1.e-04 1.e-04 1.e+00 1.e-04 1.e-04 1.e-04 1.e-04 1.e-04]\n",
      "     5 :  [1.e-04 1.e-04 1.e-04 1.e-04 1.e-04 1.e+00 1.e-04 1.e-04 1.e-04 1.e-04]\n",
      "     6 :  [1.e-04 1.e-04 1.e-04 1.e-04 1.e-04 1.e-04 1.e+00 1.e-04 1.e-04 1.e-04]\n",
      "     7 :  [1.e-04 1.e-04 1.e-04 1.e-04 1.e-04 1.e-04 1.e-04 1.e+00 1.e-04 1.e-04]\n",
      "     8 :  [0.3 0.3 0.3 0.3 0.3 0.3 0.3 0.3 1.  0.3]\n",
      "     9 :  [1.e-04 1.e-04 1.e-04 1.e-04 1.e-04 1.e-04 1.e-04 1.e-04 1.e-04 1.e+00]\n",
      "[[0.  1.  1.  1.  1.  1.  1.  1.  1.  1. ]\n",
      " [1.  0.  1.  1.  1.  1.  1.  1.  1.  1. ]\n",
      " [1.  1.  0.  1.  1.  1.  1.  1.  1.  1. ]\n",
      " [0.7 0.7 0.7 0.  0.7 0.7 0.7 0.7 0.7 0.7]\n",
      " [1.  1.  1.  1.  0.  1.  1.  1.  1.  1. ]\n",
      " [1.  1.  1.  1.  1.  0.  1.  1.  1.  1. ]\n",
      " [1.  1.  1.  1.  1.  1.  0.  1.  1.  1. ]\n",
      " [1.  1.  1.  1.  1.  1.  1.  0.  1.  1. ]\n",
      " [0.7 0.7 0.7 0.7 0.7 0.7 0.7 0.7 0.  0.7]\n",
      " [1.  1.  1.  1.  1.  1.  1.  1.  1.  0. ]]\n"
     ]
    }
   ],
   "source": [
    "digits = [3,8]\n",
    "np.set_printoptions(precision=3)\n",
    "L = np.copy(I)\n",
    "L[np.where(I==0)] = 1\n",
    "L[[3,8]] = 0.7 # Select more important rows with lower loss in prediction\n",
    "L[np.where(I==1)] = 0\n",
    "\n",
    "loss_mat = L\n",
    "M = 1.0001\n",
    "\n",
    "print(\"         TRUTH\\n\" )\n",
    "string = 'PRED'\n",
    "for i in range(num_classes):\n",
    "    if i < 4:\n",
    "        print(string[i],'  ',str(i),': ',M - loss_mat[i])\n",
    "    else:\n",
    "        print('    ',str(i),': ',M - loss_mat[i])\n",
    "        \n",
    "# Set up weight for weighted cross entropy\n",
    "\n",
    "class_weight = np.ones((num_classes))\n",
    "class_weight[digits] = 1.4\n",
    "\n",
    "print(loss_mat)"
   ]
  },
  {
   "cell_type": "markdown",
   "metadata": {},
   "source": [
    "### Softmax loss"
   ]
  },
  {
   "cell_type": "code",
   "execution_count": null,
   "metadata": {},
   "outputs": [],
   "source": [
    "# Scale the KL term from the probabilistic layers for per-datapoint ELBO. \n",
    "# KL term added internally as a regularization term.\n",
    "scaled_kl = lambda q, p, _: tfp.distributions.kl_divergence(q, p) / tf.cast(train_samples, tf.float32)\n",
    "\n",
    "x_input =  tf.keras.Input((x_train.shape[1:]), name = 'x_input')\n",
    "y_input =  tf.keras.Input((1,), name = 'y_input')\n",
    "\n",
    "logits = custom_layers.Softmax( \n",
    "    10, \n",
    "    kernel_divergence_fn=scaled_kl)([x_input, y_input])\n",
    "\n",
    "model_sm = tf.keras.Model([x_input, y_input], logits)\n",
    "model_sm.compile(loss=None, optimizer='adam')"
   ]
  },
  {
   "cell_type": "code",
   "execution_count": null,
   "metadata": {},
   "outputs": [],
   "source": [
    "\n",
    "history_model_sm = []\n",
    "for epoch in range(epochs):\n",
    "    history_epoch = model_sm.fit([x_train, y_train],\n",
    "                 batch_size=batch_size,\n",
    "                 epochs=1,\n",
    "                 verbose=1,\n",
    "                 validation_data=([x_val, y_val], None))\n",
    "#                  callbacks=[model_checkpoint])\n",
    "#     T = 10\n",
    "#     yt_hat = np.array([lc_model.predict([x_train,H_x]) for _ in range(T)])\n",
    "#     H_x = lcbnn.optimal_h(yt_hat,loss_mat)\n",
    "#     h_train = np.argmax(model.predict([x_train, y_train, h_train]), -1)\n",
    "    history_model_sm.append(history_epoch)\n",
    "       "
   ]
  },
  {
   "cell_type": "code",
   "execution_count": null,
   "metadata": {},
   "outputs": [],
   "source": [
    "y_pred = np.argmax(model_sm.predict([x_test,y_test]), 1)\n",
    "print(\"Test accuracy: \", len(np.where(y_pred - y_test == 0)[0])/len(y_test))\n",
    "\n",
    "y_pred = np.argmax(model_sm.predict([x_train, y_train]), 1)\n",
    "print(\"Train accuracy: \", len(np.where(y_pred - y_train == 0)[0])/len(y_train))"
   ]
  },
  {
   "cell_type": "markdown",
   "metadata": {},
   "source": [
    "### Loss calibrated softmax loss"
   ]
  },
  {
   "cell_type": "code",
   "execution_count": null,
   "metadata": {},
   "outputs": [],
   "source": [
    "# For reproduceable results\n",
    "importlib.reload(custom_layers)\n",
    "importlib.reload(utilities)\n",
    "\n",
    "# Scale the KL term from the probabilistic layers for per-datapoint ELBO. \n",
    "# KL term added internally as a regularization term.\n",
    "\n",
    "scaled_kl = lambda q, p, _: tfp.distributions.kl_divergence(q, p) / tf.cast(train_samples, tf.float32)\n",
    "\n",
    "x_input =  tf.keras.Input((x_train.shape[1:]), name = 'x_input')\n",
    "y_input =  tf.keras.Input((1,), name = 'y_input')\n",
    "h_input =  tf.keras.Input((1,), name = 'h_input')\n",
    "\n",
    "logits = custom_layers.LCSoftmax( \n",
    "    10, \n",
    "    M,\n",
    "    loss_mat,\n",
    "    kernel_divergence_fn=scaled_kl)([x_input, y_input, h_input])\n",
    "\n",
    "model_sm_lc = tf.keras.Model([x_input, y_input, h_input], logits)\n",
    "model_sm_lc.compile(loss=None, optimizer='adam')"
   ]
  },
  {
   "cell_type": "code",
   "execution_count": null,
   "metadata": {},
   "outputs": [],
   "source": [
    "h_train = y_train\n",
    "h_test = y_test\n",
    "h_val = y_val\n",
    "\n",
    "history_model_sm_lc = []\n",
    "for epoch in range(epochs):\n",
    "    history_epoch = model_sm_lc.fit([x_train, y_train, h_train],\n",
    "                 batch_size=batch_size,\n",
    "                 epochs=1,\n",
    "                 verbose=1,\n",
    "                 validation_data=([x_val, y_val, h_val], None))\n",
    "#                  callbacks=[model_checkpoint])\n",
    "    T = 10\n",
    "    yt_hat = np.array([model_sm_lc.predict([x_train, y_train, h_train]) for _ in range(T)])\n",
    "    h_train = utilities.optimal_h(yt_hat, loss_mat)\n",
    "    history_model_sm_lc.append(history_epoch)\n",
    "       "
   ]
  },
  {
   "cell_type": "markdown",
   "metadata": {},
   "source": [
    "### One-vs-each loss"
   ]
  },
  {
   "cell_type": "code",
   "execution_count": null,
   "metadata": {},
   "outputs": [],
   "source": [
    "# For reproduceable results\n",
    "importlib.reload(custom_layers)\n",
    "importlib.reload(utilities)\n",
    "# np.random.seed(1337)\n",
    "\n",
    "# Scale the KL term from the probabilistic layers for per-datapoint ELBO. \n",
    "# KL term added internally as a regularization term.\n",
    "\n",
    "scaled_kl = lambda q, p, _: tfp.distributions.kl_divergence(q, p) / tf.cast(train_samples, tf.float32)\n",
    "\n",
    "\n",
    "x_input =  tf.keras.Input((x_train.shape[1:]), name = 'x_input')\n",
    "y_input =  tf.keras.Input((1,), name = 'y_input')\n",
    "\n",
    "logits = custom_layers.OVELayer(\n",
    "    5,\n",
    "    10, \n",
    "    kernel_divergence_fn=scaled_kl)([x_input, y_input])\n",
    "\n",
    "model_ove = tf.keras.Model([x_input, y_input], logits)\n",
    "model_ove.compile(loss=None, optimizer='adam')"
   ]
  },
  {
   "cell_type": "code",
   "execution_count": null,
   "metadata": {},
   "outputs": [],
   "source": [
    "\n",
    "history_model_ove = []\n",
    "for epoch in range(epochs):\n",
    "    history_epoch = model_ove.fit([x_train, y_train],\n",
    "                 batch_size=batch_size,\n",
    "                 epochs=1,\n",
    "                 verbose=1,\n",
    "                 validation_data=([x_val, y_val], None))\n",
    "#                  callbacks=[model_checkpoint])\n",
    "\n",
    "    history_model_ove.append(history_epoch)\n",
    "       "
   ]
  },
  {
   "cell_type": "code",
   "execution_count": null,
   "metadata": {},
   "outputs": [],
   "source": [
    "# For reproduceable results\n",
    "importlib.reload(custom_layers)\n",
    "importlib.reload(utilities)\n",
    "# np.random.seed(1337)\n",
    "\n",
    "# Scale the KL term from the probabilistic layers for per-datapoint ELBO. \n",
    "# KL term added internally as a regularization term.\n",
    "\n",
    "scaled_kl = lambda q, p, _: tfp.distributions.kl_divergence(q, p) / tf.cast(train_samples, tf.float32)\n",
    "\n",
    "\n",
    "x_input =  tf.keras.Input((x_train.shape[1:]), name = 'x_input')\n",
    "y_input =  tf.keras.Input((1,), name = 'y_input')\n",
    "\n",
    "logits = custom_layers.NCE(\n",
    "    5,\n",
    "    10, \n",
    "    kernel_divergence_fn=scaled_kl)([x_input, y_input])\n",
    "\n",
    "model_nce = tf.keras.Model([x_input, y_input], logits)\n",
    "model_nce.compile(loss=None, optimizer='adam')"
   ]
  },
  {
   "cell_type": "code",
   "execution_count": null,
   "metadata": {},
   "outputs": [],
   "source": [
    "\n",
    "history_model_nce = []\n",
    "for epoch in range(200):\n",
    "    history_epoch = model_nce.fit([x_train, y_train],\n",
    "                 batch_size=batch_size,\n",
    "                 epochs=1,\n",
    "                 verbose=1,\n",
    "                 validation_data=([x_val, y_val], None))\n",
    "#                  callbacks=[model_checkpoint])\n",
    "\n",
    "    history_model_nce.append(history_epoch)\n",
    "       "
   ]
  },
  {
   "cell_type": "markdown",
   "metadata": {},
   "source": [
    "## Risk evaluation"
   ]
  },
  {
   "cell_type": "code",
   "execution_count": null,
   "metadata": {},
   "outputs": [],
   "source": [
    "#  Softmax model\n",
    "\n",
    "T = 10\n",
    "yt_hat_std = np.array([model_sm.predict([x_test, y_test]) for _ in range(T)])\n",
    "H_x_test_std = utilities.optimal_h(yt_hat_std,loss_mat) \n",
    "acc_std = accuracy_score(y_test, H_x_test_std)\n",
    "loss_std = np.mean(loss_mat[y_test, H_x_test_std])\n",
    "print('Standard:\\n')\n",
    "print('Accuracy on optimal decision: ', acc_std)\n",
    "print('Expected loss: ', loss_std)\n",
    "\n",
    "\n",
    "# #  Softmax with loss calibration\n",
    "\n",
    "# T = 10\n",
    "# yt_hat_sm_lc = np.array([model_sm_lc.predict([x_test, y_test, h_test]) for _ in range(T)])\n",
    "# H_x_test_sm_lc = utilities.optimal_h(yt_hat_sm_lc,loss_mat) \n",
    "# acc_sm_lc = accuracy_score(y_test, H_x_test_sm_lc)\n",
    "# loss_sm_lc = np.mean(loss_mat[y_test, H_x_test_sm_lc])\n",
    "# print('\\nLoss calibrated softmax:\\n')\n",
    "# print('Accuracy on optimal decision: ', acc_sm_lc)\n",
    "# print('Expected loss: ', loss_sm_lc)\n",
    "\n",
    "\n",
    "# OVE model\n",
    "\n",
    "T = 10 \n",
    "yt_hat_ove = np.array([model_ove.predict([x_test, y_test]) for _ in range(T)])\n",
    "H_x_test_ove = utilities.optimal_h(yt_hat_ove,loss_mat) \n",
    "acc_ove = accuracy_score(y_test, H_x_test_ove)\n",
    "loss_ove = np.mean(loss_mat[y_test, H_x_test_ove])\n",
    "print('\\nOVE:\\n')\n",
    "print('Accuracy on optimal decision: ', acc_ove)\n",
    "print('Expected loss: ', loss_ove)\n",
    "\n",
    "\n",
    "\n",
    "# NCE model\n",
    "\n",
    "T = 10 \n",
    "yt_hat_nce = np.array([model_nce.predict([x_test, y_test]) for _ in range(T)])\n",
    "H_x_test_nce = utilities.optimal_h(yt_hat_nce,loss_mat) \n",
    "acc_nce = accuracy_score(y_test, H_x_test_nce)\n",
    "loss_nce = np.mean(loss_mat[y_test, H_x_test_nce])\n",
    "print('\\nNCE:\\n')\n",
    "print('Accuracy on optimal decision: ', acc_nce)\n",
    "print('Expected loss: ', loss_nce)\n"
   ]
  },
  {
   "cell_type": "code",
   "execution_count": null,
   "metadata": {},
   "outputs": [],
   "source": [
    "plt.rcParams['figure.figsize'] = (10, 10) # Width and height\n",
    "\n",
    "classes = ['0','1','2','3','4','5','6','7','8','9']\n",
    "\n",
    "\n",
    "cnf_matrix_std = confusion_matrix(y_test.astype('float'),np.round(H_x_test_std))\n",
    "np.set_printoptions(precision=2)\n",
    "cnf_matrix_sm_lc = confusion_matrix(y_test.astype('float'),np.round(H_x_test_sm_lc))\n",
    "np.set_printoptions(precision=2)\n",
    "cnf_matrix_ove = confusion_matrix(y_test.astype('float'),np.round(H_x_test_ove))\n",
    "np.set_printoptions(precision=2)\n",
    "cnf_matrix_nce = confusion_matrix(y_test.astype('float'),np.round(H_x_test_nce))\n",
    "np.set_printoptions(precision=2)\n",
    "\n",
    "plt.subplot(221)\n",
    "utilities.plot_confusion_matrix(cnf_matrix_std, classes=classes, normalize=True,\n",
    "                      title='Softmax')\n",
    "plt.subplot(222)\n",
    "utilities.plot_confusion_matrix(cnf_matrix_sm_lc, classes=classes, normalize=True,\n",
    "                      title='LC Softmax')\n",
    "plt.subplot(223)\n",
    "utilities.plot_confusion_matrix(cnf_matrix_ove, classes=classes, normalize=True,\n",
    "                      title='OVE')\n",
    "plt.subplot(224)\n",
    "utilities.plot_confusion_matrix(cnf_matrix_nce, classes=classes, normalize=True,\n",
    "                      title='NCE')"
   ]
  },
  {
   "cell_type": "markdown",
   "metadata": {},
   "source": [
    "### Stochastic loss calibration for softmax"
   ]
  },
  {
   "cell_type": "code",
   "execution_count": 323,
   "metadata": {},
   "outputs": [
    {
     "name": "stdout",
     "output_type": "stream",
     "text": [
      "WARNING:tensorflow:Output \"slc_softmax_103\" missing from loss dictionary. We assume this was done on purpose. The fit and evaluate APIs will not be expecting any data to be passed to \"slc_softmax_103\".\n"
     ]
    }
   ],
   "source": [
    "# For reproduceable results\n",
    "importlib.reload(custom_layers)\n",
    "importlib.reload(utilities)\n",
    "\n",
    "# Scale the KL term from the probabilistic layers for per-datapoint ELBO. \n",
    "# KL term added internally as a regularization term.\n",
    "\n",
    "scaled_kl = lambda q, p, _: tfp.distributions.kl_divergence(q, p) / tf.cast(train_samples, tf.float32)\n",
    "\n",
    "x_input =  tf.keras.Input((x_train.shape[1:]), name = 'x_input')\n",
    "y_input =  tf.keras.Input((1,), name = 'y_input')\n",
    "h_input =  tf.keras.Input((1,), name = 'h_input')\n",
    "\n",
    "outputs = tfp.layers.DenseReparameterization(50,\n",
    "            activation = tf.nn.relu,\n",
    "            kernel_divergence_fn=scaled_kl)(x_input)\n",
    "logits = custom_layers.SLCSoftmax( \n",
    "    10, \n",
    "    M,\n",
    "    loss_mat,\n",
    "    kernel_divergence_fn=scaled_kl)([outputs, y_input, h_input])\n",
    "\n",
    "model_sm_slc = tf.keras.Model([x_input, y_input, h_input], logits)\n",
    "model_sm_slc.compile(loss=None, optimizer='adam')"
   ]
  },
  {
   "cell_type": "code",
   "execution_count": 324,
   "metadata": {},
   "outputs": [
    {
     "name": "stdout",
     "output_type": "stream",
     "text": [
      "Epoch 1/1\n",
      "2500/2500 [==============================] - 6s 2ms/step - loss: 43.3755\n",
      "Epoch 1/1\n",
      "2500/2500 [==============================] - 0s 54us/step - loss: 42.6183\n",
      "Epoch 1/1\n",
      "2500/2500 [==============================] - 0s 56us/step - loss: 42.2243\n",
      "Epoch 1/1\n",
      "2500/2500 [==============================] - 0s 63us/step - loss: 41.8547\n",
      "Epoch 1/1\n",
      "2500/2500 [==============================] - 0s 52us/step - loss: 41.5105\n",
      "Epoch 1/1\n",
      "2500/2500 [==============================] - 0s 59us/step - loss: 41.1668\n",
      "Epoch 1/1\n",
      "2500/2500 [==============================] - 0s 59us/step - loss: 40.8299\n",
      "Epoch 1/1\n",
      "2500/2500 [==============================] - 0s 147us/step - loss: 40.4884\n",
      "Epoch 1/1\n",
      "2500/2500 [==============================] - 0s 56us/step - loss: 40.2052\n",
      "Epoch 1/1\n",
      "2500/2500 [==============================] - 0s 55us/step - loss: 39.8662\n",
      "Epoch 1/1\n",
      "2500/2500 [==============================] - 0s 59us/step - loss: 39.5815\n",
      "Epoch 1/1\n",
      "2500/2500 [==============================] - 0s 56us/step - loss: 39.2710\n",
      "Epoch 1/1\n",
      "2500/2500 [==============================] - 0s 59us/step - loss: 38.9615\n",
      "Epoch 1/1\n",
      "2500/2500 [==============================] - 1s 302us/step - loss: 38.6582\n",
      "Epoch 1/1\n",
      "2500/2500 [==============================] - 0s 87us/step - loss: 38.3923\n",
      "Epoch 1/1\n",
      "2500/2500 [==============================] - 0s 93us/step - loss: 38.0887\n",
      "Epoch 1/1\n",
      "2500/2500 [==============================] - 0s 68us/step - loss: 37.8014\n",
      "Epoch 1/1\n",
      "2500/2500 [==============================] - 0s 118us/step - loss: 37.4954\n",
      "Epoch 1/1\n",
      "2500/2500 [==============================] - 0s 144us/step - loss: 37.2200\n",
      "Epoch 1/1\n",
      "2500/2500 [==============================] - 0s 67us/step - loss: 36.9463\n",
      "Epoch 1/1\n",
      "2500/2500 [==============================] - 0s 65us/step - loss: 36.6316\n",
      "Epoch 1/1\n",
      "2500/2500 [==============================] - 0s 74us/step - loss: 36.3470\n",
      "Epoch 1/1\n",
      "2500/2500 [==============================] - 0s 111us/step - loss: 36.0555\n",
      "Epoch 1/1\n",
      "2500/2500 [==============================] - 0s 112us/step - loss: 35.8009\n",
      "Epoch 1/1\n",
      "2500/2500 [==============================] - 0s 67us/step - loss: 35.5091\n",
      "Epoch 1/1\n",
      "2500/2500 [==============================] - 0s 91us/step - loss: 35.2447\n",
      "Epoch 1/1\n",
      "2500/2500 [==============================] - 0s 120us/step - loss: 34.9743\n",
      "Epoch 1/1\n",
      "2500/2500 [==============================] - 0s 128us/step - loss: 34.6618\n",
      "Epoch 1/1\n",
      "2500/2500 [==============================] - 0s 89us/step - loss: 34.3886\n",
      "Epoch 1/1\n",
      "2500/2500 [==============================] - 0s 80us/step - loss: 34.1187\n",
      "Epoch 1/1\n",
      "2500/2500 [==============================] - 0s 98us/step - loss: 33.8320\n",
      "Epoch 1/1\n",
      "2500/2500 [==============================] - 0s 61us/step - loss: 33.5709\n",
      "Epoch 1/1\n",
      "2500/2500 [==============================] - 0s 94us/step - loss: 33.2838\n",
      "Epoch 1/1\n",
      "2500/2500 [==============================] - 0s 90us/step - loss: 33.0482\n",
      "Epoch 1/1\n",
      "2500/2500 [==============================] - 0s 143us/step - loss: 32.7644\n",
      "Epoch 1/1\n",
      "2500/2500 [==============================] - 0s 56us/step - loss: 32.4986\n",
      "Epoch 1/1\n",
      "2500/2500 [==============================] - 0s 58us/step - loss: 32.2224\n",
      "Epoch 1/1\n",
      "2500/2500 [==============================] - 0s 57us/step - loss: 31.9513\n",
      "Epoch 1/1\n",
      "2500/2500 [==============================] - 0s 57us/step - loss: 31.6981\n",
      "Epoch 1/1\n",
      "2500/2500 [==============================] - 0s 48us/step - loss: 31.4130\n",
      "Epoch 1/1\n",
      "2500/2500 [==============================] - 0s 46us/step - loss: 31.1784\n",
      "Epoch 1/1\n",
      "2500/2500 [==============================] - 0s 42us/step - loss: 30.9025\n",
      "Epoch 1/1\n",
      "2500/2500 [==============================] - 0s 44us/step - loss: 30.6637\n",
      "Epoch 1/1\n",
      "2500/2500 [==============================] - 0s 48us/step - loss: 30.3708\n",
      "Epoch 1/1\n",
      "2500/2500 [==============================] - 0s 46us/step - loss: 30.1218\n",
      "Epoch 1/1\n",
      "2500/2500 [==============================] - 0s 54us/step - loss: 29.8649\n",
      "Epoch 1/1\n",
      "2500/2500 [==============================] - 0s 43us/step - loss: 29.6174\n",
      "Epoch 1/1\n",
      "2500/2500 [==============================] - 0s 52us/step - loss: 29.3507\n",
      "Epoch 1/1\n",
      "2500/2500 [==============================] - 0s 81us/step - loss: 29.1044\n",
      "Epoch 1/1\n",
      "2500/2500 [==============================] - 0s 45us/step - loss: 28.8573\n"
     ]
    }
   ],
   "source": [
    "yt_hat = np.expand_dims(I[y_train],0)\n",
    "h_train = utilities.optimal_h(yt_hat, loss_mat)\n",
    "h_test = y_test\n",
    "h_val = y_val\n",
    "\n",
    "history_model_sm_slc = []\n",
    "for epoch in range(50):\n",
    "    history_epoch = model_sm_slc.fit([x_train, y_train, h_train],\n",
    "                 batch_size=batch_size,\n",
    "                 epochs=1,\n",
    "                 verbose=1)\n",
    "#                  validation_data=([x_val, y_val, h_val], None))\n",
    "#                  callbacks=[model_checkpoint])\n",
    "    T = 1\n",
    "    yt_hat = np.array([model_sm_slc.predict([x_train, y_train, h_train]) for _ in range(T)])\n",
    "    h_train = utilities.optimal_h(yt_hat, loss_mat)\n",
    "    history_model_sm_slc.append(history_epoch)\n",
    "       "
   ]
  },
  {
   "cell_type": "code",
   "execution_count": 325,
   "metadata": {},
   "outputs": [
    {
     "name": "stdout",
     "output_type": "stream",
     "text": [
      "\n",
      "Loss calibrated softmax:\n",
      "\n",
      "Accuracy on optimal decision:  0.75\n",
      "Expected loss:  0.24477999999999997\n"
     ]
    }
   ],
   "source": [
    "#  Softmax with stochastic loss calibration\n",
    "T = 10\n",
    "yt_hat_sm_slc = np.array([model_sm_slc.predict([x_test, y_test, h_test]) for _ in range(T)])\n",
    "H_x_test_sm_slc = utilities.optimal_h(yt_hat_sm_slc,loss_mat) \n",
    "acc_sm_slc = accuracy_score(y_test, H_x_test_sm_slc)\n",
    "loss_sm_slc = np.mean(loss_mat[y_test, H_x_test_sm_slc])\n",
    "print('\\nLoss calibrated softmax:\\n')\n",
    "print('Accuracy on optimal decision: ', acc_sm_slc)\n",
    "print('Expected loss: ', loss_sm_slc)"
   ]
  },
  {
   "cell_type": "code",
   "execution_count": 308,
   "metadata": {},
   "outputs": [
    {
     "name": "stdout",
     "output_type": "stream",
     "text": [
      "WARNING:tensorflow:Output \"softmax_5\" missing from loss dictionary. We assume this was done on purpose. The fit and evaluate APIs will not be expecting any data to be passed to \"softmax_5\".\n"
     ]
    }
   ],
   "source": [
    "# Scale the KL term from the probabilistic layers for per-datapoint ELBO. \n",
    "# KL term added internally as a regularization term.\n",
    "scaled_kl = lambda q, p, _: tfp.distributions.kl_divergence(q, p) / tf.cast(train_samples, tf.float32)\n",
    "\n",
    "x_input =  tf.keras.Input((x_train.shape[1:]), name = 'x_input')\n",
    "y_input =  tf.keras.Input((1,), name = 'y_input')\n",
    "\n",
    "output = tfp.layers.DenseReparameterization(50,\n",
    "            activation = tf.nn.relu,\n",
    "            kernel_divergence_fn=scaled_kl)(x_input)\n",
    "logits = custom_layers.Softmax( \n",
    "    10, \n",
    "    kernel_divergence_fn=scaled_kl)([output, y_input])\n",
    "\n",
    "model_sm = tf.keras.Model([x_input, y_input], logits)\n",
    "model_sm.compile(loss=None, optimizer='adam')"
   ]
  },
  {
   "cell_type": "code",
   "execution_count": 315,
   "metadata": {},
   "outputs": [
    {
     "name": "stdout",
     "output_type": "stream",
     "text": [
      "Train on 2500 samples, validate on 2500 samples\n",
      "Epoch 1/1\n",
      "2500/2500 [==============================] - 0s 90us/step - loss: 25.2574 - val_loss: 24.6841\n",
      "Train on 2500 samples, validate on 2500 samples\n",
      "Epoch 1/1\n",
      "2500/2500 [==============================] - 0s 90us/step - loss: 25.0265 - val_loss: 24.4368\n",
      "Train on 2500 samples, validate on 2500 samples\n",
      "Epoch 1/1\n",
      "2500/2500 [==============================] - 0s 82us/step - loss: 24.7844 - val_loss: 24.1825\n",
      "Train on 2500 samples, validate on 2500 samples\n",
      "Epoch 1/1\n",
      "2500/2500 [==============================] - 0s 90us/step - loss: 24.5477 - val_loss: 23.9998\n",
      "Train on 2500 samples, validate on 2500 samples\n",
      "Epoch 1/1\n",
      "2500/2500 [==============================] - 0s 83us/step - loss: 24.3097 - val_loss: 23.7450\n",
      "Train on 2500 samples, validate on 2500 samples\n",
      "Epoch 1/1\n",
      "2500/2500 [==============================] - 0s 98us/step - loss: 24.0806 - val_loss: 23.5170\n",
      "Train on 2500 samples, validate on 2500 samples\n",
      "Epoch 1/1\n",
      "2500/2500 [==============================] - 0s 176us/step - loss: 23.8475 - val_loss: 23.2764\n",
      "Train on 2500 samples, validate on 2500 samples\n",
      "Epoch 1/1\n",
      "2500/2500 [==============================] - 1s 249us/step - loss: 23.6039 - val_loss: 23.0397\n",
      "Train on 2500 samples, validate on 2500 samples\n",
      "Epoch 1/1\n",
      "2500/2500 [==============================] - 1s 287us/step - loss: 23.3978 - val_loss: 22.8403\n",
      "Train on 2500 samples, validate on 2500 samples\n",
      "Epoch 1/1\n",
      "2500/2500 [==============================] - 1s 224us/step - loss: 23.1629 - val_loss: 22.5971\n",
      "Train on 2500 samples, validate on 2500 samples\n",
      "Epoch 1/1\n",
      "2500/2500 [==============================] - 1s 261us/step - loss: 22.9442 - val_loss: 22.3914\n",
      "Train on 2500 samples, validate on 2500 samples\n",
      "Epoch 1/1\n",
      "2500/2500 [==============================] - 0s 189us/step - loss: 22.6738 - val_loss: 22.1089\n",
      "Train on 2500 samples, validate on 2500 samples\n",
      "Epoch 1/1\n",
      "2500/2500 [==============================] - 0s 136us/step - loss: 22.4717 - val_loss: 21.8984\n",
      "Train on 2500 samples, validate on 2500 samples\n",
      "Epoch 1/1\n",
      "2500/2500 [==============================] - 0s 128us/step - loss: 22.2573 - val_loss: 21.6927\n",
      "Train on 2500 samples, validate on 2500 samples\n",
      "Epoch 1/1\n",
      "2500/2500 [==============================] - 0s 198us/step - loss: 22.0194 - val_loss: 21.4680\n",
      "Train on 2500 samples, validate on 2500 samples\n",
      "Epoch 1/1\n",
      "2500/2500 [==============================] - 0s 152us/step - loss: 21.7890 - val_loss: 21.2092\n",
      "Train on 2500 samples, validate on 2500 samples\n",
      "Epoch 1/1\n",
      "2500/2500 [==============================] - 0s 158us/step - loss: 21.5859 - val_loss: 20.9998\n",
      "Train on 2500 samples, validate on 2500 samples\n",
      "Epoch 1/1\n",
      "2500/2500 [==============================] - 0s 119us/step - loss: 21.3647 - val_loss: 20.7835\n",
      "Train on 2500 samples, validate on 2500 samples\n",
      "Epoch 1/1\n",
      "2500/2500 [==============================] - 0s 195us/step - loss: 21.1551 - val_loss: 20.5974\n",
      "Train on 2500 samples, validate on 2500 samples\n",
      "Epoch 1/1\n",
      "2500/2500 [==============================] - 0s 199us/step - loss: 20.9223 - val_loss: 20.3889\n"
     ]
    }
   ],
   "source": [
    "\n",
    "history_model_sm = []\n",
    "for epoch in range(20):\n",
    "    history_epoch = model_sm.fit([x_train, y_train],\n",
    "                 batch_size=batch_size,\n",
    "                 epochs=1,\n",
    "                 verbose=1,\n",
    "                 validation_data=([x_val, y_val], None))\n",
    "#                  callbacks=[model_checkpoint])\n",
    "#     T = 10\n",
    "#     yt_hat = np.array([lc_model.predict([x_train,H_x]) for _ in range(T)])\n",
    "#     H_x = lcbnn.optimal_h(yt_hat,loss_mat)\n",
    "#     h_train = np.argmax(model.predict([x_train, y_train, h_train]), -1)\n",
    "    history_model_sm.append(history_epoch)\n",
    "       "
   ]
  },
  {
   "cell_type": "code",
   "execution_count": 316,
   "metadata": {},
   "outputs": [
    {
     "name": "stdout",
     "output_type": "stream",
     "text": [
      "Standard:\n",
      "\n",
      "Accuracy on optimal decision:  0.6531\n",
      "Expected loss:  0.34131999999999996\n"
     ]
    }
   ],
   "source": [
    "T = 10\n",
    "yt_hat_std = np.array([model_sm.predict([x_test, y_test]) for _ in range(T)])\n",
    "H_x_test_std = utilities.optimal_h(yt_hat_std,loss_mat) \n",
    "acc_std = accuracy_score(y_test, H_x_test_std)\n",
    "loss_std = np.mean(loss_mat[y_test, H_x_test_std])\n",
    "print('Standard:\\n')\n",
    "print('Accuracy on optimal decision: ', acc_std)\n",
    "print('Expected loss: ', loss_std)"
   ]
  },
  {
   "cell_type": "code",
   "execution_count": null,
   "metadata": {},
   "outputs": [],
   "source": []
  }
 ],
 "metadata": {
  "kernelspec": {
   "display_name": "Python 3",
   "language": "python",
   "name": "python3"
  },
  "language_info": {
   "codemirror_mode": {
    "name": "ipython",
    "version": 3
   },
   "file_extension": ".py",
   "mimetype": "text/x-python",
   "name": "python",
   "nbconvert_exporter": "python",
   "pygments_lexer": "ipython3",
   "version": "3.6.4"
  }
 },
 "nbformat": 4,
 "nbformat_minor": 2
}
